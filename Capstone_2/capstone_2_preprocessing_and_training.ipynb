{
 "cells": [
  {
   "cell_type": "code",
   "execution_count": 79,
   "id": "8ba6b693",
   "metadata": {},
   "outputs": [],
   "source": [
    "import pandas as pd\n",
    "import numpy as np\n",
    "import matplotlib.pyplot as plt\n",
    "import seaborn as sns\n",
    "from sklearn.model_selection import train_test_split, cross_validate, GridSearchCV\n",
    "from sklearn import linear_model, preprocessing\n",
    "from sklearn.linear_model import LinearRegression\n",
    "from sklearn.metrics import r2_score, mean_squared_error, mean_absolute_error\n",
    "from sklearn.preprocessing import StandardScaler\n",
    "from sklearn.pipeline import make_pipeline\n",
    "from sklearn.feature_selection import SelectKBest, f_regression\n",
    "from sklearn.metrics import accuracy_score, f1_score\n",
    "from sklearn.ensemble import RandomForestRegressor"
   ]
  },
  {
   "cell_type": "code",
   "execution_count": 2,
   "id": "e55f144f",
   "metadata": {},
   "outputs": [],
   "source": [
    "data = pd.read_csv('student-mat.csv')\n",
    "#data = data.rename(columns = {'G1': 'first_period_grade', 'G2': 'second_period_grade', 'G3': 'final_grade'})\n",
    "data = data.rename(columns = {'G3': 'final_grade'})\n",
    "#data.head().T"
   ]
  },
  {
   "cell_type": "code",
   "execution_count": 3,
   "id": "5759cafc",
   "metadata": {},
   "outputs": [],
   "source": [
    "#Drop unnecessary columns\n",
    "#unnecessary_cols = ['school', 'sex', 'age', 'address', 'famsize', 'Pstatus', 'Medu', 'Fedu', 'Mjob', 'Fjob', 'reason', 'guardian', 'traveltime']\n",
    "unnecessary_cols = ['age', 'address', 'famsize', 'Pstatus', 'Medu', 'Fedu', 'Mjob', 'Fjob', 'reason', 'guardian', 'traveltime']\n",
    "data = data.drop(columns=unnecessary_cols)\n",
    "#data.head().T"
   ]
  },
  {
   "cell_type": "code",
   "execution_count": 4,
   "id": "1a88adfd",
   "metadata": {},
   "outputs": [],
   "source": [
    "#Create dummy variables\n",
    "#data = data.replace({'yes': 1, 'no': 0})\n",
    "data = pd.get_dummies(data)\n",
    "#data.info()"
   ]
  },
  {
   "cell_type": "code",
   "execution_count": 5,
   "id": "d394bd2b",
   "metadata": {},
   "outputs": [],
   "source": [
    "#Train test split\n",
    "drop_cols = ['final_grade']\n",
    "X_train, X_test, y_train, y_test = train_test_split(data.drop(columns=drop_cols), \n",
    "                                                    data.final_grade, \n",
    "                                                    test_size = 0.25,\n",
    "                                                    random_state=1)"
   ]
  },
  {
   "cell_type": "code",
   "execution_count": 61,
   "id": "490631fd",
   "metadata": {},
   "outputs": [
    {
     "name": "stdout",
     "output_type": "stream",
     "text": [
      "Scores for Linear Regression Model (unscaled):\n",
      "R2 Score for Tr Data: 0.8518067240464127\n",
      "R2 Score for Te Data: 0.7743998335638442\n",
      "Mean CV Score: 0.817536331965481\n",
      "Std CV Score: 0.03600917861501178\n"
     ]
    }
   ],
   "source": [
    "#Linear Regression Model (unscaled)\n",
    "lm = LinearRegression()\n",
    "lm.fit(X_train, y_train)\n",
    "y_tr_pred = lm.predict(X_train)\n",
    "y_te_pred = lm.predict(X_test)\n",
    "\n",
    "#Assess performance\n",
    "print('Scores for Linear Regression Model (unscaled):')\n",
    "print('R2 Score for Tr Data:', r2_score(y_train, y_tr_pred))\n",
    "print('R2 Score for Te Data:', r2_score(y_test, y_te_pred))\n",
    "\n",
    "#Cross validate Linear Regression Model (unscaled)\n",
    "cv_results = cross_validate(lm, X_train, y_train, cv=5)\n",
    "cv_scores = cv_results['test_score']\n",
    "print(\"Mean CV Score:\", cv_scores.mean())\n",
    "print(\"Std CV Score:\", cv_scores.std())"
   ]
  },
  {
   "cell_type": "code",
   "execution_count": 59,
   "id": "e65fd38e",
   "metadata": {},
   "outputs": [
    {
     "name": "stdout",
     "output_type": "stream",
     "text": [
      "Scores for Linear Regression Model (scaled):\n",
      "R2 Score for Tr Data: 0.8509592480191737\n",
      "R2 Score for Te Data: 0.7771609011512856\n",
      "Mean CV Score: 0.8163850484409295\n",
      "Std CV Score: 0.03738243971439127\n"
     ]
    }
   ],
   "source": [
    "#Linear Regression Model (scaled)\n",
    "pipe = make_pipeline(\n",
    "    StandardScaler(),\n",
    "    LinearRegression()\n",
    ")\n",
    "\n",
    "pipe.fit(X_train, y_train)\n",
    "y_tr_pred = pipe.predict(X_train)\n",
    "y_te_pred = pipe.predict(X_test)\n",
    "\n",
    "#Assess performance\n",
    "print('Scores for Linear Regression Model (scaled):')\n",
    "print('R2 Score for Tr Data:', r2_score(y_train, y_tr_pred))\n",
    "print('R2 Score for Te Data:', r2_score(y_test, y_te_pred))\n",
    "\n",
    "#Cross validate Linear Regression Model (scaled)\n",
    "cv_results = cross_validate(pipe, X_train, y_train, cv=5)\n",
    "cv_scores = cv_results['test_score']\n",
    "print(\"Mean CV Score:\", cv_scores.mean())\n",
    "print(\"Std CV Score:\", cv_scores.std())"
   ]
  },
  {
   "cell_type": "markdown",
   "id": "6464b952",
   "metadata": {},
   "source": [
    "**Select K Best Features**"
   ]
  },
  {
   "cell_type": "code",
   "execution_count": 62,
   "id": "0ffcae01",
   "metadata": {},
   "outputs": [
    {
     "name": "stdout",
     "output_type": "stream",
     "text": [
      "Scores for Linear Regression Model (K_Best):\n",
      "R2 Score for Tr Data: 0.8404894492167373\n",
      "R2 Score for Te Data: 0.7593229409701225\n",
      "Mean CV Score: 0.8253073564992304\n",
      "Std CV Score: 0.03299422642411993\n"
     ]
    }
   ],
   "source": [
    "pipe = make_pipeline(\n",
    "    StandardScaler(),\n",
    "    SelectKBest(f_regression),\n",
    "    LinearRegression()\n",
    ")\n",
    "\n",
    "pipe.fit(X_train, y_train)\n",
    "y_tr_pred = pipe.predict(X_train)\n",
    "y_te_pred = pipe.predict(X_test)\n",
    "\n",
    "#Assess performance\n",
    "print('Scores for Linear Regression Model (K_Best):')\n",
    "print('R2 Score for Tr Data:', r2_score(y_train, y_tr_pred))\n",
    "print('R2 Score for Te Data:', r2_score(y_test, y_te_pred))\n",
    "\n",
    "#Cross validate Linear Regression Model (K_Best)\n",
    "cv_results = cross_validate(pipe, X_train, y_train, cv=5)\n",
    "cv_scores = cv_results['test_score']\n",
    "print(\"Mean CV Score:\", cv_scores.mean())\n",
    "print(\"Std CV Score:\", cv_scores.std())"
   ]
  },
  {
   "cell_type": "markdown",
   "id": "9fb69573",
   "metadata": {},
   "source": [
    "**Feature Selection**"
   ]
  },
  {
   "cell_type": "code",
   "execution_count": 43,
   "id": "888ef66f",
   "metadata": {},
   "outputs": [
    {
     "data": {
      "text/plain": [
       "dict_keys(['memory', 'steps', 'verbose', 'standardscaler', 'selectkbest', 'linearregression', 'standardscaler__copy', 'standardscaler__with_mean', 'standardscaler__with_std', 'selectkbest__k', 'selectkbest__score_func', 'linearregression__copy_X', 'linearregression__fit_intercept', 'linearregression__n_jobs', 'linearregression__normalize', 'linearregression__positive'])"
      ]
     },
     "execution_count": 43,
     "metadata": {},
     "output_type": "execute_result"
    }
   ],
   "source": [
    "pipe.get_params().keys()"
   ]
  },
  {
   "cell_type": "code",
   "execution_count": 87,
   "id": "73a8e3e1",
   "metadata": {},
   "outputs": [
    {
     "data": {
      "text/plain": [
       "G2    3.856621\n",
       "G1    0.529323\n",
       "dtype: float64"
      ]
     },
     "execution_count": 87,
     "metadata": {},
     "output_type": "execute_result"
    }
   ],
   "source": [
    "k = [k+1 for k in range(len(X_train.columns))]\n",
    "grid_params = {'selectkbest__k': k}\n",
    "\n",
    "pipe = make_pipeline(\n",
    "    StandardScaler(),\n",
    "    SelectKBest(f_regression),\n",
    "    LinearRegression()\n",
    ")\n",
    "\n",
    "lr_grid_cv = GridSearchCV(pipe, param_grid=grid_params, cv=5, n_jobs=-1)\n",
    "lr_grid_cv.fit(X_train, y_train)\n",
    "y_tr_pred = lr_grid_cv.predict(X_train)\n",
    "y_te_pred = lr_grid_cv.predict(X_test)\n",
    "\n",
    "score_mean = lr_grid_cv.cv_results_['mean_test_score']\n",
    "score_std = lr_grid_cv.cv_results_['std_test_score']\n",
    "cv_k = [k for k in lr_grid_cv.cv_results_['param_selectkbest__k']]\n",
    "\n",
    "#lr_grid_cv.best_params_\n",
    "\n",
    "selected = lr_grid_cv.best_estimator_.named_steps.selectkbest.get_support()\n",
    "coefs = lr_grid_cv.best_estimator_.named_steps.linearregression.coef_\n",
    "features = X_train.columns[selected]\n",
    "pd.Series(coefs, index=features).sort_values(ascending=False)"
   ]
  },
  {
   "cell_type": "code",
   "execution_count": 88,
   "id": "7e72a196",
   "metadata": {},
   "outputs": [
    {
     "name": "stdout",
     "output_type": "stream",
     "text": [
      "Scores for Linear Regression Model (Grid Search):\n",
      "R2 Score for Tr Data: 0.8356359218036558\n",
      "R2 Score for Te Data: 0.7671946765442308\n",
      "Mean CV Score: 0.8208325244153356\n",
      "Std CV Score: 0.0029309218432459544\n"
     ]
    }
   ],
   "source": [
    "#Assess performance\n",
    "print('Scores for Linear Regression Model (Grid Search):')\n",
    "print('R2 Score for Tr Data:', r2_score(y_train, y_tr_pred))\n",
    "print('R2 Score for Te Data:', r2_score(y_test, y_te_pred))\n",
    "\n",
    "#Cross validate Linear Regression Model (Grid Search)\n",
    "print(\"Mean CV Score:\", score_mean.mean())\n",
    "print(\"Std CV Score:\", score_std.std())"
   ]
  },
  {
   "cell_type": "markdown",
   "id": "ce2ef098",
   "metadata": {},
   "source": [
    "**Random Forest**"
   ]
  },
  {
   "cell_type": "code",
   "execution_count": 63,
   "id": "a05de22f",
   "metadata": {},
   "outputs": [
    {
     "name": "stdout",
     "output_type": "stream",
     "text": [
      "Random Forest Regressor:\n",
      "Mean CV Score: 0.8600534884351905\n",
      "Std CV Score: 0.038888387108360754\n"
     ]
    }
   ],
   "source": [
    "rf_pipe = make_pipeline(\n",
    "    StandardScaler(),\n",
    "    RandomForestRegressor(random_state=1)\n",
    ")\n",
    "\n",
    "rf_cv = cross_validate(rf_pipe, X_train, y_train, cv=5)\n",
    "rf_cv_scores = rf_cv['test_score']\n",
    "print('Random Forest Regressor:')\n",
    "print(\"Mean CV Score:\", rf_cv_scores.mean())\n",
    "print(\"Std CV Score:\", rf_cv_scores.std())"
   ]
  },
  {
   "cell_type": "code",
   "execution_count": 71,
   "id": "d0204d97",
   "metadata": {},
   "outputs": [
    {
     "data": {
      "text/plain": [
       "GridSearchCV(cv=5,\n",
       "             estimator=Pipeline(steps=[('standardscaler', StandardScaler()),\n",
       "                                       ('randomforestregressor',\n",
       "                                        RandomForestRegressor(random_state=1))]),\n",
       "             n_jobs=-1,\n",
       "             param_grid={'randomforestregressor__n_estimators': [10, 12, 16, 20,\n",
       "                                                                 26, 33, 42, 54,\n",
       "                                                                 69, 88, 112,\n",
       "                                                                 143, 183, 233,\n",
       "                                                                 297, 379, 483,\n",
       "                                                                 615, 784,\n",
       "                                                                 1000],\n",
       "                         'standardscaler': [StandardScaler(), None]})"
      ]
     },
     "execution_count": 71,
     "metadata": {},
     "output_type": "execute_result"
    }
   ],
   "source": [
    "#Grid Search\n",
    "n_est = [int(n) for n in np.logspace(start=1, stop=3, num=20)]\n",
    "grid_params = {\n",
    "        'randomforestregressor__n_estimators': n_est,\n",
    "        'standardscaler': [StandardScaler(), None],\n",
    "}\n",
    "\n",
    "rf_grid_cv = GridSearchCV(rf_pipe, param_grid=grid_params, cv=5, n_jobs=-1)\n",
    "rf_grid_cv.fit(X_train, y_train)"
   ]
  },
  {
   "cell_type": "code",
   "execution_count": 72,
   "id": "9e817634",
   "metadata": {},
   "outputs": [
    {
     "data": {
      "text/plain": [
       "{'randomforestregressor__n_estimators': 615,\n",
       " 'standardscaler': StandardScaler()}"
      ]
     },
     "execution_count": 72,
     "metadata": {},
     "output_type": "execute_result"
    }
   ],
   "source": [
    "rf_grid_cv.best_params_"
   ]
  },
  {
   "cell_type": "code",
   "execution_count": 75,
   "id": "03e39afb",
   "metadata": {},
   "outputs": [
    {
     "name": "stdout",
     "output_type": "stream",
     "text": [
      "Mean CV Score: 0.8637076186423445\n",
      "Std CV Score: 0.03494308544693526\n"
     ]
    }
   ],
   "source": [
    "rf_best_cv_results = cross_validate(rf_grid_cv.best_estimator_, X_train, y_train, cv=5)\n",
    "rf_best_scores = rf_best_cv_results['test_score']\n",
    "\n",
    "print(\"Mean CV Score:\", rf_best_scores.mean())\n",
    "print(\"Std CV Score:\", rf_best_scores.std())"
   ]
  },
  {
   "cell_type": "code",
   "execution_count": 76,
   "id": "c5dfc5ac",
   "metadata": {},
   "outputs": [
    {
     "data": {
      "image/png": "[encoded data removed]",
      "text/plain": [
       "<Figure size 720x360 with 1 Axes>"
      ]
     },
     "metadata": {
      "needs_background": "light"
     },
     "output_type": "display_data"
    }
   ],
   "source": [
    "plt.subplots(figsize=(10, 5))\n",
    "imps = rf_grid_cv.best_estimator_.named_steps.randomforestregressor.feature_importances_\n",
    "rf_feat_imps = pd.Series(imps, index=X_train.columns).sort_values(ascending=False)\n",
    "rf_feat_imps.plot(kind='bar')\n",
    "plt.xlabel('features')\n",
    "plt.ylabel('importance')\n",
    "plt.title('Best random forest regressor feature importances');"
   ]
  },
  {
   "cell_type": "markdown",
   "id": "c54bb0e4",
   "metadata": {},
   "source": [
    "**Model Selection**"
   ]
  },
  {
   "cell_type": "code",
   "execution_count": 85,
   "id": "5e5d8077",
   "metadata": {},
   "outputs": [
    {
     "name": "stdout",
     "output_type": "stream",
     "text": [
      "Mean: 1.1295931860227588\n",
      "Std : 0.09655760604751538\n",
      "MAE : 1.1687389321754165\n"
     ]
    }
   ],
   "source": [
    "#Linear Regression\n",
    "lr_neg_mae = cross_validate(lr_grid_cv.best_estimator_, X_train, y_train, \n",
    "                            scoring='neg_mean_absolute_error', cv=5, n_jobs=-1)\n",
    "lr_mae_mean = np.mean(-1 * lr_neg_mae['test_score'])\n",
    "lr_mae_std = np.std(-1 * lr_neg_mae['test_score'])\n",
    "print('Mean:', lr_mae_mean)\n",
    "print('Std :', lr_mae_std)\n",
    "print('MAE :', mean_absolute_error(y_test, lr_grid_cv.best_estimator_.predict(X_test)))"
   ]
  },
  {
   "cell_type": "code",
   "execution_count": 86,
   "id": "8aec4e41",
   "metadata": {},
   "outputs": [
    {
     "name": "stdout",
     "output_type": "stream",
     "text": [
      "Mean: 1.0212092232786734\n",
      "Std : 0.095313749464914\n",
      "MAE : 1.0502422599983576\n"
     ]
    }
   ],
   "source": [
    "#Random Forest\n",
    "rf_neg_mae = cross_validate(rf_grid_cv.best_estimator_, X_train, y_train, \n",
    "                            scoring='neg_mean_absolute_error', cv=5, n_jobs=-1)\n",
    "rf_mae_mean = np.mean(-1 * rf_neg_mae['test_score'])\n",
    "rf_mae_std = np.std(-1 * rf_neg_mae['test_score'])\n",
    "print('Mean:', rf_mae_mean)\n",
    "print('Std :', rf_mae_std)\n",
    "print('MAE :', mean_absolute_error(y_test, rf_grid_cv.best_estimator_.predict(X_test)))"
   ]
  },
  {
   "cell_type": "code",
   "execution_count": null,
   "id": "d71ad2f1",
   "metadata": {},
   "outputs": [],
   "source": []
  }
 ],
 "metadata": {
  "kernelspec": {
   "display_name": "Python 3",
   "language": "python",
   "name": "python3"
  },
  "language_info": {
   "codemirror_mode": {
    "name": "ipython",
    "version": 3
   },
   "file_extension": ".py",
   "mimetype": "text/x-python",
   "name": "python",
   "nbconvert_exporter": "python",
   "pygments_lexer": "ipython3",
   "version": "3.8.8"
  }
 },
 "nbformat": 4,
 "nbformat_minor": 5
}
