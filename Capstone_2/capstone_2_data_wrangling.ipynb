{
 "cells": [
  {
   "cell_type": "code",
   "execution_count": 1,
   "id": "fd497fcc",
   "metadata": {},
   "outputs": [],
   "source": [
    "import pandas as pd\n",
    "import matplotlib.pyplot as plt"
   ]
  },
  {
   "cell_type": "code",
   "execution_count": 2,
   "id": "163e13e7",
   "metadata": {},
   "outputs": [
    {
     "name": "stdout",
     "output_type": "stream",
     "text": [
      "<class 'pandas.core.frame.DataFrame'>\n",
      "RangeIndex: 395 entries, 0 to 394\n",
      "Data columns (total 33 columns):\n",
      " #   Column               Non-Null Count  Dtype \n",
      "---  ------               --------------  ----- \n",
      " 0   school               395 non-null    object\n",
      " 1   sex                  395 non-null    object\n",
      " 2   age                  395 non-null    int64 \n",
      " 3   address              395 non-null    object\n",
      " 4   famsize              395 non-null    object\n",
      " 5   Pstatus              395 non-null    object\n",
      " 6   Medu                 395 non-null    int64 \n",
      " 7   Fedu                 395 non-null    int64 \n",
      " 8   Mjob                 395 non-null    object\n",
      " 9   Fjob                 395 non-null    object\n",
      " 10  reason               395 non-null    object\n",
      " 11  guardian             395 non-null    object\n",
      " 12  traveltime           395 non-null    int64 \n",
      " 13  studytime            395 non-null    int64 \n",
      " 14  failures             395 non-null    int64 \n",
      " 15  schoolsup            395 non-null    object\n",
      " 16  famsup               395 non-null    object\n",
      " 17  paid                 395 non-null    object\n",
      " 18  activities           395 non-null    object\n",
      " 19  nursery              395 non-null    object\n",
      " 20  higher               395 non-null    object\n",
      " 21  internet             395 non-null    object\n",
      " 22  romantic             395 non-null    object\n",
      " 23  famrel               395 non-null    int64 \n",
      " 24  freetime             395 non-null    int64 \n",
      " 25  goout                395 non-null    int64 \n",
      " 26  Dalc                 395 non-null    int64 \n",
      " 27  Walc                 395 non-null    int64 \n",
      " 28  health               395 non-null    int64 \n",
      " 29  absences             395 non-null    int64 \n",
      " 30  first_period_grade   395 non-null    int64 \n",
      " 31  second_period_grade  395 non-null    int64 \n",
      " 32  final_grade          395 non-null    int64 \n",
      "dtypes: int64(16), object(17)\n",
      "memory usage: 102.0+ KB\n",
      "None\n"
     ]
    }
   ],
   "source": [
    "data = pd.read_csv('student-mat.csv')\n",
    "#data = data.reset_index()\n",
    "data = data.rename(columns = {'G1': 'first_period_grade', 'G2': 'second_period_grade', 'G3': 'final_grade'})\n",
    "print(data.info())"
   ]
  },
  {
   "cell_type": "code",
   "execution_count": 3,
   "id": "ba8d91ee",
   "metadata": {},
   "outputs": [],
   "source": [
    "unnecessary_cols = ['sex', 'age', 'address', 'famsize', 'Pstatus', 'Medu', 'Fedu', 'Mjob', 'Fjob', 'reason', 'guardian', 'traveltime']\n",
    "data = data.drop(columns=unnecessary_cols)"
   ]
  },
  {
   "cell_type": "code",
   "execution_count": 4,
   "id": "0aee94e5",
   "metadata": {},
   "outputs": [
    {
     "name": "stdout",
     "output_type": "stream",
     "text": [
      "<class 'pandas.core.frame.DataFrame'>\n",
      "RangeIndex: 395 entries, 0 to 394\n",
      "Data columns (total 21 columns):\n",
      " #   Column               Non-Null Count  Dtype \n",
      "---  ------               --------------  ----- \n",
      " 0   school               395 non-null    object\n",
      " 1   studytime            395 non-null    int64 \n",
      " 2   failures             395 non-null    int64 \n",
      " 3   schoolsup            395 non-null    object\n",
      " 4   famsup               395 non-null    object\n",
      " 5   paid                 395 non-null    object\n",
      " 6   activities           395 non-null    object\n",
      " 7   nursery              395 non-null    object\n",
      " 8   higher               395 non-null    object\n",
      " 9   internet             395 non-null    object\n",
      " 10  romantic             395 non-null    object\n",
      " 11  famrel               395 non-null    int64 \n",
      " 12  freetime             395 non-null    int64 \n",
      " 13  goout                395 non-null    int64 \n",
      " 14  Dalc                 395 non-null    int64 \n",
      " 15  Walc                 395 non-null    int64 \n",
      " 16  health               395 non-null    int64 \n",
      " 17  absences             395 non-null    int64 \n",
      " 18  first_period_grade   395 non-null    int64 \n",
      " 19  second_period_grade  395 non-null    int64 \n",
      " 20  final_grade          395 non-null    int64 \n",
      "dtypes: int64(12), object(9)\n",
      "memory usage: 64.9+ KB\n",
      "None\n"
     ]
    }
   ],
   "source": [
    "#print(data.head())\n",
    "print(data.info())"
   ]
  },
  {
   "cell_type": "code",
   "execution_count": 5,
   "id": "c07f1361",
   "metadata": {},
   "outputs": [
    {
     "data": {
      "text/html": [
       "<div>\n",
       "<style scoped>\n",
       "    .dataframe tbody tr th:only-of-type {\n",
       "        vertical-align: middle;\n",
       "    }\n",
       "\n",
       "    .dataframe tbody tr th {\n",
       "        vertical-align: top;\n",
       "    }\n",
       "\n",
       "    .dataframe thead th {\n",
       "        text-align: right;\n",
       "    }\n",
       "</style>\n",
       "<table border=\"1\" class=\"dataframe\">\n",
       "  <thead>\n",
       "    <tr style=\"text-align: right;\">\n",
       "      <th></th>\n",
       "      <th>school</th>\n",
       "      <th>studytime</th>\n",
       "      <th>failures</th>\n",
       "      <th>schoolsup</th>\n",
       "      <th>famsup</th>\n",
       "      <th>paid</th>\n",
       "      <th>activities</th>\n",
       "      <th>nursery</th>\n",
       "      <th>higher</th>\n",
       "      <th>internet</th>\n",
       "      <th>...</th>\n",
       "      <th>famrel</th>\n",
       "      <th>freetime</th>\n",
       "      <th>goout</th>\n",
       "      <th>Dalc</th>\n",
       "      <th>Walc</th>\n",
       "      <th>health</th>\n",
       "      <th>absences</th>\n",
       "      <th>first_period_grade</th>\n",
       "      <th>second_period_grade</th>\n",
       "      <th>final_grade</th>\n",
       "    </tr>\n",
       "  </thead>\n",
       "  <tbody>\n",
       "    <tr>\n",
       "      <th>0</th>\n",
       "      <td>GP</td>\n",
       "      <td>2</td>\n",
       "      <td>0</td>\n",
       "      <td>yes</td>\n",
       "      <td>no</td>\n",
       "      <td>no</td>\n",
       "      <td>no</td>\n",
       "      <td>yes</td>\n",
       "      <td>yes</td>\n",
       "      <td>no</td>\n",
       "      <td>...</td>\n",
       "      <td>4</td>\n",
       "      <td>3</td>\n",
       "      <td>4</td>\n",
       "      <td>1</td>\n",
       "      <td>1</td>\n",
       "      <td>3</td>\n",
       "      <td>6</td>\n",
       "      <td>5</td>\n",
       "      <td>6</td>\n",
       "      <td>6</td>\n",
       "    </tr>\n",
       "    <tr>\n",
       "      <th>1</th>\n",
       "      <td>GP</td>\n",
       "      <td>2</td>\n",
       "      <td>0</td>\n",
       "      <td>no</td>\n",
       "      <td>yes</td>\n",
       "      <td>no</td>\n",
       "      <td>no</td>\n",
       "      <td>no</td>\n",
       "      <td>yes</td>\n",
       "      <td>yes</td>\n",
       "      <td>...</td>\n",
       "      <td>5</td>\n",
       "      <td>3</td>\n",
       "      <td>3</td>\n",
       "      <td>1</td>\n",
       "      <td>1</td>\n",
       "      <td>3</td>\n",
       "      <td>4</td>\n",
       "      <td>5</td>\n",
       "      <td>5</td>\n",
       "      <td>6</td>\n",
       "    </tr>\n",
       "    <tr>\n",
       "      <th>2</th>\n",
       "      <td>GP</td>\n",
       "      <td>2</td>\n",
       "      <td>3</td>\n",
       "      <td>yes</td>\n",
       "      <td>no</td>\n",
       "      <td>yes</td>\n",
       "      <td>no</td>\n",
       "      <td>yes</td>\n",
       "      <td>yes</td>\n",
       "      <td>yes</td>\n",
       "      <td>...</td>\n",
       "      <td>4</td>\n",
       "      <td>3</td>\n",
       "      <td>2</td>\n",
       "      <td>2</td>\n",
       "      <td>3</td>\n",
       "      <td>3</td>\n",
       "      <td>10</td>\n",
       "      <td>7</td>\n",
       "      <td>8</td>\n",
       "      <td>10</td>\n",
       "    </tr>\n",
       "    <tr>\n",
       "      <th>3</th>\n",
       "      <td>GP</td>\n",
       "      <td>3</td>\n",
       "      <td>0</td>\n",
       "      <td>no</td>\n",
       "      <td>yes</td>\n",
       "      <td>yes</td>\n",
       "      <td>yes</td>\n",
       "      <td>yes</td>\n",
       "      <td>yes</td>\n",
       "      <td>yes</td>\n",
       "      <td>...</td>\n",
       "      <td>3</td>\n",
       "      <td>2</td>\n",
       "      <td>2</td>\n",
       "      <td>1</td>\n",
       "      <td>1</td>\n",
       "      <td>5</td>\n",
       "      <td>2</td>\n",
       "      <td>15</td>\n",
       "      <td>14</td>\n",
       "      <td>15</td>\n",
       "    </tr>\n",
       "    <tr>\n",
       "      <th>4</th>\n",
       "      <td>GP</td>\n",
       "      <td>2</td>\n",
       "      <td>0</td>\n",
       "      <td>no</td>\n",
       "      <td>yes</td>\n",
       "      <td>yes</td>\n",
       "      <td>no</td>\n",
       "      <td>yes</td>\n",
       "      <td>yes</td>\n",
       "      <td>no</td>\n",
       "      <td>...</td>\n",
       "      <td>4</td>\n",
       "      <td>3</td>\n",
       "      <td>2</td>\n",
       "      <td>1</td>\n",
       "      <td>2</td>\n",
       "      <td>5</td>\n",
       "      <td>4</td>\n",
       "      <td>6</td>\n",
       "      <td>10</td>\n",
       "      <td>10</td>\n",
       "    </tr>\n",
       "  </tbody>\n",
       "</table>\n",
       "<p>5 rows × 21 columns</p>\n",
       "</div>"
      ],
      "text/plain": [
       "  school  studytime  failures schoolsup famsup paid activities nursery higher  \\\n",
       "0     GP          2         0       yes     no   no         no     yes    yes   \n",
       "1     GP          2         0        no    yes   no         no      no    yes   \n",
       "2     GP          2         3       yes     no  yes         no     yes    yes   \n",
       "3     GP          3         0        no    yes  yes        yes     yes    yes   \n",
       "4     GP          2         0        no    yes  yes         no     yes    yes   \n",
       "\n",
       "  internet  ... famrel  freetime  goout  Dalc  Walc  health  absences  \\\n",
       "0       no  ...      4         3      4     1     1       3         6   \n",
       "1      yes  ...      5         3      3     1     1       3         4   \n",
       "2      yes  ...      4         3      2     2     3       3        10   \n",
       "3      yes  ...      3         2      2     1     1       5         2   \n",
       "4       no  ...      4         3      2     1     2       5         4   \n",
       "\n",
       "   first_period_grade  second_period_grade  final_grade  \n",
       "0                   5                    6            6  \n",
       "1                   5                    5            6  \n",
       "2                   7                    8           10  \n",
       "3                  15                   14           15  \n",
       "4                   6                   10           10  \n",
       "\n",
       "[5 rows x 21 columns]"
      ]
     },
     "execution_count": 5,
     "metadata": {},
     "output_type": "execute_result"
    }
   ],
   "source": [
    "data.head()"
   ]
  },
  {
   "cell_type": "code",
   "execution_count": 6,
   "id": "70ac74b1",
   "metadata": {},
   "outputs": [
    {
     "data": {
      "text/plain": [
       "2    198\n",
       "1    105\n",
       "3     65\n",
       "4     27\n",
       "Name: studytime, dtype: int64"
      ]
     },
     "execution_count": 6,
     "metadata": {},
     "output_type": "execute_result"
    }
   ],
   "source": [
    "data['studytime'].value_counts()"
   ]
  },
  {
   "cell_type": "code",
   "execution_count": 7,
   "id": "5bba91c7",
   "metadata": {},
   "outputs": [
    {
     "data": {
      "image/png": "[encoded data removed]",
      "text/plain": [
       "<Figure size 432x288 with 1 Axes>"
      ]
     },
     "metadata": {
      "needs_background": "light"
     },
     "output_type": "display_data"
    }
   ],
   "source": [
    "#correlation between studytime and final grade\n",
    "plt.scatter(data['studytime'], data['final_grade'], alpha=1)\n",
    "plt.show()"
   ]
  },
  {
   "cell_type": "code",
   "execution_count": 8,
   "id": "eb571caf",
   "metadata": {},
   "outputs": [
    {
     "name": "stdout",
     "output_type": "stream",
     "text": [
      "0      6\n",
      "1      6\n",
      "2     10\n",
      "3     15\n",
      "4     10\n",
      "5     15\n",
      "6     11\n",
      "7      6\n",
      "17    10\n",
      "35     6\n",
      "Name: final_grade, dtype: int64\n"
     ]
    }
   ],
   "source": [
    "#group by average based on internet usage\n",
    "avg_by_internet = data['final_grade'].groupby(by=data['internet'])\n",
    "print(avg_by_internet.head())"
   ]
  },
  {
   "cell_type": "code",
   "execution_count": null,
   "id": "6e15de83",
   "metadata": {},
   "outputs": [],
   "source": []
  }
 ],
 "metadata": {
  "kernelspec": {
   "display_name": "Python 3",
   "language": "python",
   "name": "python3"
  },
  "language_info": {
   "codemirror_mode": {
    "name": "ipython",
    "version": 3
   },
   "file_extension": ".py",
   "mimetype": "text/x-python",
   "name": "python",
   "nbconvert_exporter": "python",
   "pygments_lexer": "ipython3",
   "version": "3.8.8"
  }
 },
 "nbformat": 4,
 "nbformat_minor": 5
}
