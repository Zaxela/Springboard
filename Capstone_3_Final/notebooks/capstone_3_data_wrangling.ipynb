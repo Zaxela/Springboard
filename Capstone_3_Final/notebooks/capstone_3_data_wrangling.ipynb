{
 "cells": [
  {
   "cell_type": "code",
   "execution_count": 1,
   "id": "c790fb8c",
   "metadata": {},
   "outputs": [],
   "source": [
    "import pandas as pd\n",
    "from library.sb_utils import save_file"
   ]
  },
  {
   "cell_type": "markdown",
   "id": "64ca9746",
   "metadata": {},
   "source": [
    "This dataset is found from https://www.kaggle.com/sudalairajkumar/daily-temperature-of-major-cities. It contains the daily average temperature of various major cities around the world from 1995 to 2020.\n",
    "\n",
    "In order to perform time series analysis on this dataset, the dataset must first be cleaned."
   ]
  },
  {
   "cell_type": "code",
   "execution_count": 2,
   "id": "14038fbb",
   "metadata": {},
   "outputs": [
    {
     "name": "stderr",
     "output_type": "stream",
     "text": [
      "/Users/alex/opt/anaconda3/lib/python3.8/site-packages/IPython/core/interactiveshell.py:3165: DtypeWarning: Columns (2) have mixed types.Specify dtype option on import or set low_memory=False.\n",
      "  has_raised = await self.run_ast_nodes(code_ast.body, cell_name,\n"
     ]
    }
   ],
   "source": [
    "df = pd.read_csv('../data/city_temperature.csv')"
   ]
  },
  {
   "cell_type": "code",
   "execution_count": 3,
   "id": "2bb7f0e8",
   "metadata": {},
   "outputs": [
    {
     "name": "stdout",
     "output_type": "stream",
     "text": [
      "<class 'pandas.core.frame.DataFrame'>\n",
      "RangeIndex: 2906327 entries, 0 to 2906326\n",
      "Data columns (total 8 columns):\n",
      " #   Column          Dtype  \n",
      "---  ------          -----  \n",
      " 0   Region          object \n",
      " 1   Country         object \n",
      " 2   State           object \n",
      " 3   City            object \n",
      " 4   Month           int64  \n",
      " 5   Day             int64  \n",
      " 6   Year            int64  \n",
      " 7   AvgTemperature  float64\n",
      "dtypes: float64(1), int64(3), object(4)\n",
      "memory usage: 177.4+ MB\n"
     ]
    }
   ],
   "source": [
    "df.info()"
   ]
  },
  {
   "cell_type": "code",
   "execution_count": 4,
   "id": "bcc6a785",
   "metadata": {},
   "outputs": [
    {
     "data": {
      "text/html": [
       "<div>\n",
       "<style scoped>\n",
       "    .dataframe tbody tr th:only-of-type {\n",
       "        vertical-align: middle;\n",
       "    }\n",
       "\n",
       "    .dataframe tbody tr th {\n",
       "        vertical-align: top;\n",
       "    }\n",
       "\n",
       "    .dataframe thead th {\n",
       "        text-align: right;\n",
       "    }\n",
       "</style>\n",
       "<table border=\"1\" class=\"dataframe\">\n",
       "  <thead>\n",
       "    <tr style=\"text-align: right;\">\n",
       "      <th></th>\n",
       "      <th>Region</th>\n",
       "      <th>Country</th>\n",
       "      <th>State</th>\n",
       "      <th>City</th>\n",
       "      <th>Month</th>\n",
       "      <th>Day</th>\n",
       "      <th>Year</th>\n",
       "      <th>AvgTemperature</th>\n",
       "    </tr>\n",
       "  </thead>\n",
       "  <tbody>\n",
       "    <tr>\n",
       "      <th>0</th>\n",
       "      <td>Africa</td>\n",
       "      <td>Algeria</td>\n",
       "      <td>NaN</td>\n",
       "      <td>Algiers</td>\n",
       "      <td>1</td>\n",
       "      <td>1</td>\n",
       "      <td>1995</td>\n",
       "      <td>64.2</td>\n",
       "    </tr>\n",
       "    <tr>\n",
       "      <th>1</th>\n",
       "      <td>Africa</td>\n",
       "      <td>Algeria</td>\n",
       "      <td>NaN</td>\n",
       "      <td>Algiers</td>\n",
       "      <td>1</td>\n",
       "      <td>2</td>\n",
       "      <td>1995</td>\n",
       "      <td>49.4</td>\n",
       "    </tr>\n",
       "    <tr>\n",
       "      <th>2</th>\n",
       "      <td>Africa</td>\n",
       "      <td>Algeria</td>\n",
       "      <td>NaN</td>\n",
       "      <td>Algiers</td>\n",
       "      <td>1</td>\n",
       "      <td>3</td>\n",
       "      <td>1995</td>\n",
       "      <td>48.8</td>\n",
       "    </tr>\n",
       "    <tr>\n",
       "      <th>3</th>\n",
       "      <td>Africa</td>\n",
       "      <td>Algeria</td>\n",
       "      <td>NaN</td>\n",
       "      <td>Algiers</td>\n",
       "      <td>1</td>\n",
       "      <td>4</td>\n",
       "      <td>1995</td>\n",
       "      <td>46.4</td>\n",
       "    </tr>\n",
       "    <tr>\n",
       "      <th>4</th>\n",
       "      <td>Africa</td>\n",
       "      <td>Algeria</td>\n",
       "      <td>NaN</td>\n",
       "      <td>Algiers</td>\n",
       "      <td>1</td>\n",
       "      <td>5</td>\n",
       "      <td>1995</td>\n",
       "      <td>47.9</td>\n",
       "    </tr>\n",
       "    <tr>\n",
       "      <th>...</th>\n",
       "      <td>...</td>\n",
       "      <td>...</td>\n",
       "      <td>...</td>\n",
       "      <td>...</td>\n",
       "      <td>...</td>\n",
       "      <td>...</td>\n",
       "      <td>...</td>\n",
       "      <td>...</td>\n",
       "    </tr>\n",
       "    <tr>\n",
       "      <th>2906322</th>\n",
       "      <td>North America</td>\n",
       "      <td>US</td>\n",
       "      <td>Additional Territories</td>\n",
       "      <td>San Juan Puerto Rico</td>\n",
       "      <td>7</td>\n",
       "      <td>27</td>\n",
       "      <td>2013</td>\n",
       "      <td>82.4</td>\n",
       "    </tr>\n",
       "    <tr>\n",
       "      <th>2906323</th>\n",
       "      <td>North America</td>\n",
       "      <td>US</td>\n",
       "      <td>Additional Territories</td>\n",
       "      <td>San Juan Puerto Rico</td>\n",
       "      <td>7</td>\n",
       "      <td>28</td>\n",
       "      <td>2013</td>\n",
       "      <td>81.6</td>\n",
       "    </tr>\n",
       "    <tr>\n",
       "      <th>2906324</th>\n",
       "      <td>North America</td>\n",
       "      <td>US</td>\n",
       "      <td>Additional Territories</td>\n",
       "      <td>San Juan Puerto Rico</td>\n",
       "      <td>7</td>\n",
       "      <td>29</td>\n",
       "      <td>2013</td>\n",
       "      <td>84.2</td>\n",
       "    </tr>\n",
       "    <tr>\n",
       "      <th>2906325</th>\n",
       "      <td>North America</td>\n",
       "      <td>US</td>\n",
       "      <td>Additional Territories</td>\n",
       "      <td>San Juan Puerto Rico</td>\n",
       "      <td>7</td>\n",
       "      <td>30</td>\n",
       "      <td>2013</td>\n",
       "      <td>83.8</td>\n",
       "    </tr>\n",
       "    <tr>\n",
       "      <th>2906326</th>\n",
       "      <td>North America</td>\n",
       "      <td>US</td>\n",
       "      <td>Additional Territories</td>\n",
       "      <td>San Juan Puerto Rico</td>\n",
       "      <td>7</td>\n",
       "      <td>31</td>\n",
       "      <td>2013</td>\n",
       "      <td>83.6</td>\n",
       "    </tr>\n",
       "  </tbody>\n",
       "</table>\n",
       "<p>2906327 rows × 8 columns</p>\n",
       "</div>"
      ],
      "text/plain": [
       "                Region  Country                   State                  City  \\\n",
       "0               Africa  Algeria                     NaN               Algiers   \n",
       "1               Africa  Algeria                     NaN               Algiers   \n",
       "2               Africa  Algeria                     NaN               Algiers   \n",
       "3               Africa  Algeria                     NaN               Algiers   \n",
       "4               Africa  Algeria                     NaN               Algiers   \n",
       "...                ...      ...                     ...                   ...   \n",
       "2906322  North America       US  Additional Territories  San Juan Puerto Rico   \n",
       "2906323  North America       US  Additional Territories  San Juan Puerto Rico   \n",
       "2906324  North America       US  Additional Territories  San Juan Puerto Rico   \n",
       "2906325  North America       US  Additional Territories  San Juan Puerto Rico   \n",
       "2906326  North America       US  Additional Territories  San Juan Puerto Rico   \n",
       "\n",
       "         Month  Day  Year  AvgTemperature  \n",
       "0            1    1  1995            64.2  \n",
       "1            1    2  1995            49.4  \n",
       "2            1    3  1995            48.8  \n",
       "3            1    4  1995            46.4  \n",
       "4            1    5  1995            47.9  \n",
       "...        ...  ...   ...             ...  \n",
       "2906322      7   27  2013            82.4  \n",
       "2906323      7   28  2013            81.6  \n",
       "2906324      7   29  2013            84.2  \n",
       "2906325      7   30  2013            83.8  \n",
       "2906326      7   31  2013            83.6  \n",
       "\n",
       "[2906327 rows x 8 columns]"
      ]
     },
     "execution_count": 4,
     "metadata": {},
     "output_type": "execute_result"
    }
   ],
   "source": [
    "df"
   ]
  },
  {
   "cell_type": "markdown",
   "id": "dcce4f7d",
   "metadata": {},
   "source": [
    "We analyze each column to check for any null or incorrect/irregular values."
   ]
  },
  {
   "cell_type": "markdown",
   "id": "1b12924a",
   "metadata": {},
   "source": [
    "**Region**"
   ]
  },
  {
   "cell_type": "code",
   "execution_count": 5,
   "id": "3fed1b39",
   "metadata": {},
   "outputs": [
    {
     "data": {
      "text/plain": [
       "False"
      ]
     },
     "execution_count": 5,
     "metadata": {},
     "output_type": "execute_result"
    }
   ],
   "source": [
    "df.Region.isnull().values.any()"
   ]
  },
  {
   "cell_type": "code",
   "execution_count": 6,
   "id": "49b1cffa",
   "metadata": {},
   "outputs": [
    {
     "data": {
      "text/plain": [
       "North America                        1556681\n",
       "Europe                                381990\n",
       "Asia                                  316663\n",
       "Africa                                251118\n",
       "South/Central America & Carribean     219530\n",
       "Middle East                           124749\n",
       "Australia/South Pacific                55596\n",
       "Name: Region, dtype: int64"
      ]
     },
     "execution_count": 6,
     "metadata": {},
     "output_type": "execute_result"
    }
   ],
   "source": [
    "df.Region.value_counts()"
   ]
  },
  {
   "cell_type": "markdown",
   "id": "9a31e249",
   "metadata": {},
   "source": [
    "**Country**"
   ]
  },
  {
   "cell_type": "code",
   "execution_count": 7,
   "id": "cfc9e3f7",
   "metadata": {},
   "outputs": [
    {
     "data": {
      "text/plain": [
       "False"
      ]
     },
     "execution_count": 7,
     "metadata": {},
     "output_type": "execute_result"
    }
   ],
   "source": [
    "df.Country.isnull().values.any()"
   ]
  },
  {
   "cell_type": "code",
   "execution_count": 8,
   "id": "118b14ac",
   "metadata": {},
   "outputs": [
    {
     "data": {
      "text/plain": [
       "US                   1455337\n",
       "Canada                 74245\n",
       "Australia              46330\n",
       "China                  46329\n",
       "India                  37063\n",
       "                      ...   \n",
       "Guyana                  5065\n",
       "Israel                  4641\n",
       "Burundi                 4543\n",
       "Georgia                 4378\n",
       "Serbia-Montenegro       3427\n",
       "Name: Country, Length: 125, dtype: int64"
      ]
     },
     "execution_count": 8,
     "metadata": {},
     "output_type": "execute_result"
    }
   ],
   "source": [
    "df.Country.value_counts()"
   ]
  },
  {
   "cell_type": "markdown",
   "id": "1cf873e1",
   "metadata": {},
   "source": [
    "**City**"
   ]
  },
  {
   "cell_type": "code",
   "execution_count": 9,
   "id": "ad323d79",
   "metadata": {},
   "outputs": [
    {
     "data": {
      "text/plain": [
       "False"
      ]
     },
     "execution_count": 9,
     "metadata": {},
     "output_type": "execute_result"
    }
   ],
   "source": [
    "df.City.isnull().values.any()"
   ]
  },
  {
   "cell_type": "code",
   "execution_count": 10,
   "id": "e730fc6e",
   "metadata": {},
   "outputs": [
    {
     "data": {
      "text/plain": [
       "Springfield    18530\n",
       "Charleston     18530\n",
       "Washington     18530\n",
       "Columbus       18530\n",
       "Portland       18530\n",
       "               ...  \n",
       "Frankfurt       4136\n",
       "Flagstaff       3574\n",
       "Pristina        3427\n",
       "Yerevan         3226\n",
       "Bonn            3133\n",
       "Name: City, Length: 321, dtype: int64"
      ]
     },
     "execution_count": 10,
     "metadata": {},
     "output_type": "execute_result"
    }
   ],
   "source": [
    "df.City.value_counts()"
   ]
  },
  {
   "cell_type": "markdown",
   "id": "77d7cda5",
   "metadata": {},
   "source": [
    "**State**"
   ]
  },
  {
   "cell_type": "code",
   "execution_count": 11,
   "id": "7623db74",
   "metadata": {},
   "outputs": [
    {
     "data": {
      "text/plain": [
       "True"
      ]
     },
     "execution_count": 11,
     "metadata": {},
     "output_type": "execute_result"
    }
   ],
   "source": [
    "df.State.isnull().values.any()"
   ]
  },
  {
   "cell_type": "markdown",
   "id": "d5ed870a",
   "metadata": {},
   "source": [
    "Since we don't need the State column for our analysis, we can drop it from our dataset."
   ]
  },
  {
   "cell_type": "code",
   "execution_count": 12,
   "id": "1e0aa44b",
   "metadata": {},
   "outputs": [],
   "source": [
    "df = df.drop(columns=['State'])"
   ]
  },
  {
   "cell_type": "markdown",
   "id": "e0ead36f",
   "metadata": {},
   "source": [
    "**AvgTemperature**"
   ]
  },
  {
   "cell_type": "code",
   "execution_count": 13,
   "id": "7f1723dd",
   "metadata": {},
   "outputs": [
    {
     "data": {
      "text/plain": [
       "False"
      ]
     },
     "execution_count": 13,
     "metadata": {},
     "output_type": "execute_result"
    }
   ],
   "source": [
    "df.AvgTemperature.isnull().values.any()"
   ]
  },
  {
   "cell_type": "code",
   "execution_count": 14,
   "id": "76383765",
   "metadata": {},
   "outputs": [
    {
     "data": {
      "text/plain": [
       "-99.0    79672\n",
       " 80.2     7442\n",
       " 80.8     7362\n",
       " 81.1     7247\n",
       " 79.2     7241\n",
       "         ...  \n",
       "-39.3        1\n",
       "-46.9        1\n",
       "-43.4        1\n",
       "-35.4        1\n",
       "-40.0        1\n",
       "Name: AvgTemperature, Length: 1517, dtype: int64"
      ]
     },
     "execution_count": 14,
     "metadata": {},
     "output_type": "execute_result"
    }
   ],
   "source": [
    "df.AvgTemperature.value_counts()"
   ]
  },
  {
   "cell_type": "markdown",
   "id": "330c6391",
   "metadata": {},
   "source": [
    "-99 Degrees Fahrenheit is unrealistic, so we assume it's a placeholder for null values and remove all rows with it accordingly."
   ]
  },
  {
   "cell_type": "code",
   "execution_count": 15,
   "id": "b4ab37e0",
   "metadata": {},
   "outputs": [
    {
     "data": {
      "text/plain": [
       " 80.2    7442\n",
       " 80.8    7362\n",
       " 81.1    7247\n",
       " 79.2    7241\n",
       " 80.5    7223\n",
       "         ... \n",
       "-39.3       1\n",
       "-46.9       1\n",
       "-43.4       1\n",
       "-35.4       1\n",
       "-33.9       1\n",
       "Name: AvgTemperature, Length: 1516, dtype: int64"
      ]
     },
     "execution_count": 15,
     "metadata": {},
     "output_type": "execute_result"
    }
   ],
   "source": [
    "#Remove rows with average temperature of -99\n",
    "df.drop(df.loc[df['AvgTemperature']==-99].index, inplace=True)\n",
    "df.AvgTemperature.value_counts()"
   ]
  },
  {
   "cell_type": "markdown",
   "id": "b1371be2",
   "metadata": {},
   "source": [
    "We can convert temperature from Fahrenheit to Celsius."
   ]
  },
  {
   "cell_type": "code",
   "execution_count": 16,
   "id": "1def2225",
   "metadata": {},
   "outputs": [
    {
     "data": {
      "text/html": [
       "<div>\n",
       "<style scoped>\n",
       "    .dataframe tbody tr th:only-of-type {\n",
       "        vertical-align: middle;\n",
       "    }\n",
       "\n",
       "    .dataframe tbody tr th {\n",
       "        vertical-align: top;\n",
       "    }\n",
       "\n",
       "    .dataframe thead th {\n",
       "        text-align: right;\n",
       "    }\n",
       "</style>\n",
       "<table border=\"1\" class=\"dataframe\">\n",
       "  <thead>\n",
       "    <tr style=\"text-align: right;\">\n",
       "      <th></th>\n",
       "      <th>Region</th>\n",
       "      <th>Country</th>\n",
       "      <th>City</th>\n",
       "      <th>Month</th>\n",
       "      <th>Day</th>\n",
       "      <th>Year</th>\n",
       "      <th>AvgTemperature</th>\n",
       "    </tr>\n",
       "  </thead>\n",
       "  <tbody>\n",
       "    <tr>\n",
       "      <th>0</th>\n",
       "      <td>Africa</td>\n",
       "      <td>Algeria</td>\n",
       "      <td>Algiers</td>\n",
       "      <td>1</td>\n",
       "      <td>1</td>\n",
       "      <td>1995</td>\n",
       "      <td>64.2</td>\n",
       "    </tr>\n",
       "    <tr>\n",
       "      <th>1</th>\n",
       "      <td>Africa</td>\n",
       "      <td>Algeria</td>\n",
       "      <td>Algiers</td>\n",
       "      <td>1</td>\n",
       "      <td>2</td>\n",
       "      <td>1995</td>\n",
       "      <td>49.4</td>\n",
       "    </tr>\n",
       "    <tr>\n",
       "      <th>2</th>\n",
       "      <td>Africa</td>\n",
       "      <td>Algeria</td>\n",
       "      <td>Algiers</td>\n",
       "      <td>1</td>\n",
       "      <td>3</td>\n",
       "      <td>1995</td>\n",
       "      <td>48.8</td>\n",
       "    </tr>\n",
       "    <tr>\n",
       "      <th>3</th>\n",
       "      <td>Africa</td>\n",
       "      <td>Algeria</td>\n",
       "      <td>Algiers</td>\n",
       "      <td>1</td>\n",
       "      <td>4</td>\n",
       "      <td>1995</td>\n",
       "      <td>46.4</td>\n",
       "    </tr>\n",
       "    <tr>\n",
       "      <th>4</th>\n",
       "      <td>Africa</td>\n",
       "      <td>Algeria</td>\n",
       "      <td>Algiers</td>\n",
       "      <td>1</td>\n",
       "      <td>5</td>\n",
       "      <td>1995</td>\n",
       "      <td>47.9</td>\n",
       "    </tr>\n",
       "  </tbody>\n",
       "</table>\n",
       "</div>"
      ],
      "text/plain": [
       "   Region  Country     City  Month  Day  Year  AvgTemperature\n",
       "0  Africa  Algeria  Algiers      1    1  1995            64.2\n",
       "1  Africa  Algeria  Algiers      1    2  1995            49.4\n",
       "2  Africa  Algeria  Algiers      1    3  1995            48.8\n",
       "3  Africa  Algeria  Algiers      1    4  1995            46.4\n",
       "4  Africa  Algeria  Algiers      1    5  1995            47.9"
      ]
     },
     "execution_count": 16,
     "metadata": {},
     "output_type": "execute_result"
    }
   ],
   "source": [
    "df.head()"
   ]
  },
  {
   "cell_type": "code",
   "execution_count": 17,
   "id": "3f44d2e2",
   "metadata": {},
   "outputs": [
    {
     "data": {
      "text/html": [
       "<div>\n",
       "<style scoped>\n",
       "    .dataframe tbody tr th:only-of-type {\n",
       "        vertical-align: middle;\n",
       "    }\n",
       "\n",
       "    .dataframe tbody tr th {\n",
       "        vertical-align: top;\n",
       "    }\n",
       "\n",
       "    .dataframe thead th {\n",
       "        text-align: right;\n",
       "    }\n",
       "</style>\n",
       "<table border=\"1\" class=\"dataframe\">\n",
       "  <thead>\n",
       "    <tr style=\"text-align: right;\">\n",
       "      <th></th>\n",
       "      <th>Region</th>\n",
       "      <th>Country</th>\n",
       "      <th>City</th>\n",
       "      <th>Month</th>\n",
       "      <th>Day</th>\n",
       "      <th>Year</th>\n",
       "      <th>AvgTemperature</th>\n",
       "    </tr>\n",
       "  </thead>\n",
       "  <tbody>\n",
       "    <tr>\n",
       "      <th>0</th>\n",
       "      <td>Africa</td>\n",
       "      <td>Algeria</td>\n",
       "      <td>Algiers</td>\n",
       "      <td>1</td>\n",
       "      <td>1</td>\n",
       "      <td>1995</td>\n",
       "      <td>17.9</td>\n",
       "    </tr>\n",
       "    <tr>\n",
       "      <th>1</th>\n",
       "      <td>Africa</td>\n",
       "      <td>Algeria</td>\n",
       "      <td>Algiers</td>\n",
       "      <td>1</td>\n",
       "      <td>2</td>\n",
       "      <td>1995</td>\n",
       "      <td>9.7</td>\n",
       "    </tr>\n",
       "    <tr>\n",
       "      <th>2</th>\n",
       "      <td>Africa</td>\n",
       "      <td>Algeria</td>\n",
       "      <td>Algiers</td>\n",
       "      <td>1</td>\n",
       "      <td>3</td>\n",
       "      <td>1995</td>\n",
       "      <td>9.3</td>\n",
       "    </tr>\n",
       "    <tr>\n",
       "      <th>3</th>\n",
       "      <td>Africa</td>\n",
       "      <td>Algeria</td>\n",
       "      <td>Algiers</td>\n",
       "      <td>1</td>\n",
       "      <td>4</td>\n",
       "      <td>1995</td>\n",
       "      <td>8.0</td>\n",
       "    </tr>\n",
       "    <tr>\n",
       "      <th>4</th>\n",
       "      <td>Africa</td>\n",
       "      <td>Algeria</td>\n",
       "      <td>Algiers</td>\n",
       "      <td>1</td>\n",
       "      <td>5</td>\n",
       "      <td>1995</td>\n",
       "      <td>8.8</td>\n",
       "    </tr>\n",
       "  </tbody>\n",
       "</table>\n",
       "</div>"
      ],
      "text/plain": [
       "   Region  Country     City  Month  Day  Year  AvgTemperature\n",
       "0  Africa  Algeria  Algiers      1    1  1995            17.9\n",
       "1  Africa  Algeria  Algiers      1    2  1995             9.7\n",
       "2  Africa  Algeria  Algiers      1    3  1995             9.3\n",
       "3  Africa  Algeria  Algiers      1    4  1995             8.0\n",
       "4  Africa  Algeria  Algiers      1    5  1995             8.8"
      ]
     },
     "execution_count": 17,
     "metadata": {},
     "output_type": "execute_result"
    }
   ],
   "source": [
    "df.AvgTemperature = round((df.AvgTemperature - 32)*5/9, 1)\n",
    "df.head()"
   ]
  },
  {
   "cell_type": "markdown",
   "id": "eb48d79c",
   "metadata": {},
   "source": [
    "**Year**"
   ]
  },
  {
   "cell_type": "code",
   "execution_count": 18,
   "id": "398a3dcf",
   "metadata": {},
   "outputs": [
    {
     "data": {
      "text/plain": [
       "False"
      ]
     },
     "execution_count": 18,
     "metadata": {},
     "output_type": "execute_result"
    }
   ],
   "source": [
    "df.Year.isnull().values.any()"
   ]
  },
  {
   "cell_type": "code",
   "execution_count": 19,
   "id": "e66cdc85",
   "metadata": {},
   "outputs": [
    {
     "data": {
      "text/plain": [
       "2001    115277\n",
       "2005    114775\n",
       "2004    114597\n",
       "2003    114283\n",
       "2006    114201\n",
       "2000    114169\n",
       "2010    113642\n",
       "2002    113616\n",
       "1999    113406\n",
       "2007    113180\n",
       "2009    112977\n",
       "1997    112952\n",
       "1996    112734\n",
       "2008    112724\n",
       "2011    112407\n",
       "1995    112152\n",
       "2012    111165\n",
       "1998    111102\n",
       "2013    110228\n",
       "2014    107860\n",
       "2015    106809\n",
       "2017    106421\n",
       "2016    106403\n",
       "2018    105748\n",
       "2019    105085\n",
       "2020     38742\n",
       "Name: Year, dtype: int64"
      ]
     },
     "execution_count": 19,
     "metadata": {},
     "output_type": "execute_result"
    }
   ],
   "source": [
    "df.Year.value_counts()"
   ]
  },
  {
   "cell_type": "markdown",
   "id": "e2ce94fa",
   "metadata": {},
   "source": [
    "We should also remove rows with 2020 since there is a significant amount of data missing in 2020 compared to all the other years, and so the 2020 data may the weighted more strongly than the other years."
   ]
  },
  {
   "cell_type": "code",
   "execution_count": 20,
   "id": "6ddf0d51",
   "metadata": {},
   "outputs": [],
   "source": [
    "df.drop(df.loc[df['Year']==2020].index, inplace=True)"
   ]
  },
  {
   "cell_type": "markdown",
   "id": "91968d3a",
   "metadata": {},
   "source": [
    "**Month**"
   ]
  },
  {
   "cell_type": "code",
   "execution_count": 21,
   "id": "3dcde383",
   "metadata": {},
   "outputs": [
    {
     "data": {
      "text/plain": [
       "False"
      ]
     },
     "execution_count": 21,
     "metadata": {},
     "output_type": "execute_result"
    }
   ],
   "source": [
    "df.Month.isnull().values.any()"
   ]
  },
  {
   "cell_type": "code",
   "execution_count": 22,
   "id": "311922a8",
   "metadata": {},
   "outputs": [
    {
     "data": {
      "text/plain": [
       "3     237332\n",
       "7     237170\n",
       "1     237064\n",
       "10    236803\n",
       "8     236652\n",
       "5     236596\n",
       "12    235134\n",
       "4     229323\n",
       "9     228865\n",
       "11    228526\n",
       "6     228132\n",
       "2     216316\n",
       "Name: Month, dtype: int64"
      ]
     },
     "execution_count": 22,
     "metadata": {},
     "output_type": "execute_result"
    }
   ],
   "source": [
    "df.Month.value_counts()"
   ]
  },
  {
   "cell_type": "markdown",
   "id": "96b96056",
   "metadata": {},
   "source": [
    "**Day**"
   ]
  },
  {
   "cell_type": "code",
   "execution_count": 23,
   "id": "8367d66e",
   "metadata": {},
   "outputs": [
    {
     "data": {
      "text/plain": [
       "False"
      ]
     },
     "execution_count": 23,
     "metadata": {},
     "output_type": "execute_result"
    }
   ],
   "source": [
    "df.Day.isnull().values.any()"
   ]
  },
  {
   "cell_type": "code",
   "execution_count": 24,
   "id": "dce102f3",
   "metadata": {},
   "outputs": [
    {
     "data": {
      "text/plain": [
       "8     91836\n",
       "22    91830\n",
       "27    91827\n",
       "26    91784\n",
       "3     91763\n",
       "2     91758\n",
       "12    91745\n",
       "15    91740\n",
       "14    91725\n",
       "13    91717\n",
       "11    91701\n",
       "5     91699\n",
       "7     91694\n",
       "6     91693\n",
       "4     91682\n",
       "23    91677\n",
       "16    91650\n",
       "9     91556\n",
       "17    91552\n",
       "28    91548\n",
       "1     91541\n",
       "20    91530\n",
       "25    91470\n",
       "10    91434\n",
       "21    91375\n",
       "19    91360\n",
       "18    91225\n",
       "24    91046\n",
       "29    85946\n",
       "30    83736\n",
       "31    53073\n",
       "Name: Day, dtype: int64"
      ]
     },
     "execution_count": 24,
     "metadata": {},
     "output_type": "execute_result"
    }
   ],
   "source": [
    "df.Day.value_counts()"
   ]
  },
  {
   "cell_type": "markdown",
   "id": "a886ce04",
   "metadata": {},
   "source": [
    "All the columns appear to be fine now. We can then create a new column for the datetime object representing the date."
   ]
  },
  {
   "cell_type": "code",
   "execution_count": 25,
   "id": "d4a4ec3a",
   "metadata": {},
   "outputs": [
    {
     "data": {
      "text/html": [
       "<div>\n",
       "<style scoped>\n",
       "    .dataframe tbody tr th:only-of-type {\n",
       "        vertical-align: middle;\n",
       "    }\n",
       "\n",
       "    .dataframe tbody tr th {\n",
       "        vertical-align: top;\n",
       "    }\n",
       "\n",
       "    .dataframe thead th {\n",
       "        text-align: right;\n",
       "    }\n",
       "</style>\n",
       "<table border=\"1\" class=\"dataframe\">\n",
       "  <thead>\n",
       "    <tr style=\"text-align: right;\">\n",
       "      <th></th>\n",
       "      <th>Region</th>\n",
       "      <th>Country</th>\n",
       "      <th>City</th>\n",
       "      <th>Month</th>\n",
       "      <th>Day</th>\n",
       "      <th>Year</th>\n",
       "      <th>AvgTemperature</th>\n",
       "      <th>Date</th>\n",
       "    </tr>\n",
       "  </thead>\n",
       "  <tbody>\n",
       "    <tr>\n",
       "      <th>0</th>\n",
       "      <td>Africa</td>\n",
       "      <td>Algeria</td>\n",
       "      <td>Algiers</td>\n",
       "      <td>1</td>\n",
       "      <td>1</td>\n",
       "      <td>1995</td>\n",
       "      <td>17.9</td>\n",
       "      <td>1995-01-01</td>\n",
       "    </tr>\n",
       "    <tr>\n",
       "      <th>1</th>\n",
       "      <td>Africa</td>\n",
       "      <td>Algeria</td>\n",
       "      <td>Algiers</td>\n",
       "      <td>1</td>\n",
       "      <td>2</td>\n",
       "      <td>1995</td>\n",
       "      <td>9.7</td>\n",
       "      <td>1995-01-02</td>\n",
       "    </tr>\n",
       "    <tr>\n",
       "      <th>2</th>\n",
       "      <td>Africa</td>\n",
       "      <td>Algeria</td>\n",
       "      <td>Algiers</td>\n",
       "      <td>1</td>\n",
       "      <td>3</td>\n",
       "      <td>1995</td>\n",
       "      <td>9.3</td>\n",
       "      <td>1995-01-03</td>\n",
       "    </tr>\n",
       "    <tr>\n",
       "      <th>3</th>\n",
       "      <td>Africa</td>\n",
       "      <td>Algeria</td>\n",
       "      <td>Algiers</td>\n",
       "      <td>1</td>\n",
       "      <td>4</td>\n",
       "      <td>1995</td>\n",
       "      <td>8.0</td>\n",
       "      <td>1995-01-04</td>\n",
       "    </tr>\n",
       "    <tr>\n",
       "      <th>4</th>\n",
       "      <td>Africa</td>\n",
       "      <td>Algeria</td>\n",
       "      <td>Algiers</td>\n",
       "      <td>1</td>\n",
       "      <td>5</td>\n",
       "      <td>1995</td>\n",
       "      <td>8.8</td>\n",
       "      <td>1995-01-05</td>\n",
       "    </tr>\n",
       "    <tr>\n",
       "      <th>...</th>\n",
       "      <td>...</td>\n",
       "      <td>...</td>\n",
       "      <td>...</td>\n",
       "      <td>...</td>\n",
       "      <td>...</td>\n",
       "      <td>...</td>\n",
       "      <td>...</td>\n",
       "      <td>...</td>\n",
       "    </tr>\n",
       "    <tr>\n",
       "      <th>2906322</th>\n",
       "      <td>North America</td>\n",
       "      <td>US</td>\n",
       "      <td>San Juan Puerto Rico</td>\n",
       "      <td>7</td>\n",
       "      <td>27</td>\n",
       "      <td>2013</td>\n",
       "      <td>28.0</td>\n",
       "      <td>2013-07-27</td>\n",
       "    </tr>\n",
       "    <tr>\n",
       "      <th>2906323</th>\n",
       "      <td>North America</td>\n",
       "      <td>US</td>\n",
       "      <td>San Juan Puerto Rico</td>\n",
       "      <td>7</td>\n",
       "      <td>28</td>\n",
       "      <td>2013</td>\n",
       "      <td>27.6</td>\n",
       "      <td>2013-07-28</td>\n",
       "    </tr>\n",
       "    <tr>\n",
       "      <th>2906324</th>\n",
       "      <td>North America</td>\n",
       "      <td>US</td>\n",
       "      <td>San Juan Puerto Rico</td>\n",
       "      <td>7</td>\n",
       "      <td>29</td>\n",
       "      <td>2013</td>\n",
       "      <td>29.0</td>\n",
       "      <td>2013-07-29</td>\n",
       "    </tr>\n",
       "    <tr>\n",
       "      <th>2906325</th>\n",
       "      <td>North America</td>\n",
       "      <td>US</td>\n",
       "      <td>San Juan Puerto Rico</td>\n",
       "      <td>7</td>\n",
       "      <td>30</td>\n",
       "      <td>2013</td>\n",
       "      <td>28.8</td>\n",
       "      <td>2013-07-30</td>\n",
       "    </tr>\n",
       "    <tr>\n",
       "      <th>2906326</th>\n",
       "      <td>North America</td>\n",
       "      <td>US</td>\n",
       "      <td>San Juan Puerto Rico</td>\n",
       "      <td>7</td>\n",
       "      <td>31</td>\n",
       "      <td>2013</td>\n",
       "      <td>28.7</td>\n",
       "      <td>2013-07-31</td>\n",
       "    </tr>\n",
       "  </tbody>\n",
       "</table>\n",
       "<p>2787913 rows × 8 columns</p>\n",
       "</div>"
      ],
      "text/plain": [
       "                Region  Country                  City  Month  Day  Year  \\\n",
       "0               Africa  Algeria               Algiers      1    1  1995   \n",
       "1               Africa  Algeria               Algiers      1    2  1995   \n",
       "2               Africa  Algeria               Algiers      1    3  1995   \n",
       "3               Africa  Algeria               Algiers      1    4  1995   \n",
       "4               Africa  Algeria               Algiers      1    5  1995   \n",
       "...                ...      ...                   ...    ...  ...   ...   \n",
       "2906322  North America       US  San Juan Puerto Rico      7   27  2013   \n",
       "2906323  North America       US  San Juan Puerto Rico      7   28  2013   \n",
       "2906324  North America       US  San Juan Puerto Rico      7   29  2013   \n",
       "2906325  North America       US  San Juan Puerto Rico      7   30  2013   \n",
       "2906326  North America       US  San Juan Puerto Rico      7   31  2013   \n",
       "\n",
       "         AvgTemperature       Date  \n",
       "0                  17.9 1995-01-01  \n",
       "1                   9.7 1995-01-02  \n",
       "2                   9.3 1995-01-03  \n",
       "3                   8.0 1995-01-04  \n",
       "4                   8.8 1995-01-05  \n",
       "...                 ...        ...  \n",
       "2906322            28.0 2013-07-27  \n",
       "2906323            27.6 2013-07-28  \n",
       "2906324            29.0 2013-07-29  \n",
       "2906325            28.8 2013-07-30  \n",
       "2906326            28.7 2013-07-31  \n",
       "\n",
       "[2787913 rows x 8 columns]"
      ]
     },
     "execution_count": 25,
     "metadata": {},
     "output_type": "execute_result"
    }
   ],
   "source": [
    "#Create the date column\n",
    "date = pd.to_datetime(df[['Year', 'Month', 'Day']])\n",
    "df = pd.concat([df, date], axis=1)\n",
    "df.rename(columns={0:'Date'}, inplace=True)\n",
    "df"
   ]
  },
  {
   "cell_type": "code",
   "execution_count": 26,
   "id": "be36ab61",
   "metadata": {},
   "outputs": [
    {
     "name": "stdout",
     "output_type": "stream",
     "text": [
      "<class 'pandas.core.frame.DataFrame'>\n",
      "Int64Index: 2787913 entries, 0 to 2906326\n",
      "Data columns (total 8 columns):\n",
      " #   Column          Dtype         \n",
      "---  ------          -----         \n",
      " 0   Region          object        \n",
      " 1   Country         object        \n",
      " 2   City            object        \n",
      " 3   Month           int64         \n",
      " 4   Day             int64         \n",
      " 5   Year            int64         \n",
      " 6   AvgTemperature  float64       \n",
      " 7   Date            datetime64[ns]\n",
      "dtypes: datetime64[ns](1), float64(1), int64(3), object(3)\n",
      "memory usage: 191.4+ MB\n"
     ]
    }
   ],
   "source": [
    "df.info()"
   ]
  },
  {
   "cell_type": "markdown",
   "id": "aaa657f5",
   "metadata": {},
   "source": [
    "Since average temperatures tend to vary during each particular season, seasons may be a useful feature for EDA, and so we can create a season column. "
   ]
  },
  {
   "cell_type": "code",
   "execution_count": 27,
   "id": "24d5340b",
   "metadata": {},
   "outputs": [
    {
     "data": {
      "text/html": [
       "<div>\n",
       "<style scoped>\n",
       "    .dataframe tbody tr th:only-of-type {\n",
       "        vertical-align: middle;\n",
       "    }\n",
       "\n",
       "    .dataframe tbody tr th {\n",
       "        vertical-align: top;\n",
       "    }\n",
       "\n",
       "    .dataframe thead th {\n",
       "        text-align: right;\n",
       "    }\n",
       "</style>\n",
       "<table border=\"1\" class=\"dataframe\">\n",
       "  <thead>\n",
       "    <tr style=\"text-align: right;\">\n",
       "      <th></th>\n",
       "      <th>Region</th>\n",
       "      <th>Country</th>\n",
       "      <th>City</th>\n",
       "      <th>Month</th>\n",
       "      <th>Day</th>\n",
       "      <th>Year</th>\n",
       "      <th>AvgTemperature</th>\n",
       "      <th>Date</th>\n",
       "      <th>Season</th>\n",
       "    </tr>\n",
       "  </thead>\n",
       "  <tbody>\n",
       "    <tr>\n",
       "      <th>0</th>\n",
       "      <td>Africa</td>\n",
       "      <td>Algeria</td>\n",
       "      <td>Algiers</td>\n",
       "      <td>1</td>\n",
       "      <td>1</td>\n",
       "      <td>1995</td>\n",
       "      <td>17.9</td>\n",
       "      <td>1995-01-01</td>\n",
       "      <td>Winter</td>\n",
       "    </tr>\n",
       "    <tr>\n",
       "      <th>1</th>\n",
       "      <td>Africa</td>\n",
       "      <td>Algeria</td>\n",
       "      <td>Algiers</td>\n",
       "      <td>1</td>\n",
       "      <td>2</td>\n",
       "      <td>1995</td>\n",
       "      <td>9.7</td>\n",
       "      <td>1995-01-02</td>\n",
       "      <td>Winter</td>\n",
       "    </tr>\n",
       "    <tr>\n",
       "      <th>2</th>\n",
       "      <td>Africa</td>\n",
       "      <td>Algeria</td>\n",
       "      <td>Algiers</td>\n",
       "      <td>1</td>\n",
       "      <td>3</td>\n",
       "      <td>1995</td>\n",
       "      <td>9.3</td>\n",
       "      <td>1995-01-03</td>\n",
       "      <td>Winter</td>\n",
       "    </tr>\n",
       "    <tr>\n",
       "      <th>3</th>\n",
       "      <td>Africa</td>\n",
       "      <td>Algeria</td>\n",
       "      <td>Algiers</td>\n",
       "      <td>1</td>\n",
       "      <td>4</td>\n",
       "      <td>1995</td>\n",
       "      <td>8.0</td>\n",
       "      <td>1995-01-04</td>\n",
       "      <td>Winter</td>\n",
       "    </tr>\n",
       "    <tr>\n",
       "      <th>4</th>\n",
       "      <td>Africa</td>\n",
       "      <td>Algeria</td>\n",
       "      <td>Algiers</td>\n",
       "      <td>1</td>\n",
       "      <td>5</td>\n",
       "      <td>1995</td>\n",
       "      <td>8.8</td>\n",
       "      <td>1995-01-05</td>\n",
       "      <td>Winter</td>\n",
       "    </tr>\n",
       "    <tr>\n",
       "      <th>...</th>\n",
       "      <td>...</td>\n",
       "      <td>...</td>\n",
       "      <td>...</td>\n",
       "      <td>...</td>\n",
       "      <td>...</td>\n",
       "      <td>...</td>\n",
       "      <td>...</td>\n",
       "      <td>...</td>\n",
       "      <td>...</td>\n",
       "    </tr>\n",
       "    <tr>\n",
       "      <th>2906322</th>\n",
       "      <td>North America</td>\n",
       "      <td>US</td>\n",
       "      <td>San Juan Puerto Rico</td>\n",
       "      <td>7</td>\n",
       "      <td>27</td>\n",
       "      <td>2013</td>\n",
       "      <td>28.0</td>\n",
       "      <td>2013-07-27</td>\n",
       "      <td>Summer</td>\n",
       "    </tr>\n",
       "    <tr>\n",
       "      <th>2906323</th>\n",
       "      <td>North America</td>\n",
       "      <td>US</td>\n",
       "      <td>San Juan Puerto Rico</td>\n",
       "      <td>7</td>\n",
       "      <td>28</td>\n",
       "      <td>2013</td>\n",
       "      <td>27.6</td>\n",
       "      <td>2013-07-28</td>\n",
       "      <td>Summer</td>\n",
       "    </tr>\n",
       "    <tr>\n",
       "      <th>2906324</th>\n",
       "      <td>North America</td>\n",
       "      <td>US</td>\n",
       "      <td>San Juan Puerto Rico</td>\n",
       "      <td>7</td>\n",
       "      <td>29</td>\n",
       "      <td>2013</td>\n",
       "      <td>29.0</td>\n",
       "      <td>2013-07-29</td>\n",
       "      <td>Summer</td>\n",
       "    </tr>\n",
       "    <tr>\n",
       "      <th>2906325</th>\n",
       "      <td>North America</td>\n",
       "      <td>US</td>\n",
       "      <td>San Juan Puerto Rico</td>\n",
       "      <td>7</td>\n",
       "      <td>30</td>\n",
       "      <td>2013</td>\n",
       "      <td>28.8</td>\n",
       "      <td>2013-07-30</td>\n",
       "      <td>Summer</td>\n",
       "    </tr>\n",
       "    <tr>\n",
       "      <th>2906326</th>\n",
       "      <td>North America</td>\n",
       "      <td>US</td>\n",
       "      <td>San Juan Puerto Rico</td>\n",
       "      <td>7</td>\n",
       "      <td>31</td>\n",
       "      <td>2013</td>\n",
       "      <td>28.7</td>\n",
       "      <td>2013-07-31</td>\n",
       "      <td>Summer</td>\n",
       "    </tr>\n",
       "  </tbody>\n",
       "</table>\n",
       "<p>2787913 rows × 9 columns</p>\n",
       "</div>"
      ],
      "text/plain": [
       "                Region  Country                  City  Month  Day  Year  \\\n",
       "0               Africa  Algeria               Algiers      1    1  1995   \n",
       "1               Africa  Algeria               Algiers      1    2  1995   \n",
       "2               Africa  Algeria               Algiers      1    3  1995   \n",
       "3               Africa  Algeria               Algiers      1    4  1995   \n",
       "4               Africa  Algeria               Algiers      1    5  1995   \n",
       "...                ...      ...                   ...    ...  ...   ...   \n",
       "2906322  North America       US  San Juan Puerto Rico      7   27  2013   \n",
       "2906323  North America       US  San Juan Puerto Rico      7   28  2013   \n",
       "2906324  North America       US  San Juan Puerto Rico      7   29  2013   \n",
       "2906325  North America       US  San Juan Puerto Rico      7   30  2013   \n",
       "2906326  North America       US  San Juan Puerto Rico      7   31  2013   \n",
       "\n",
       "         AvgTemperature       Date  Season  \n",
       "0                  17.9 1995-01-01  Winter  \n",
       "1                   9.7 1995-01-02  Winter  \n",
       "2                   9.3 1995-01-03  Winter  \n",
       "3                   8.0 1995-01-04  Winter  \n",
       "4                   8.8 1995-01-05  Winter  \n",
       "...                 ...        ...     ...  \n",
       "2906322            28.0 2013-07-27  Summer  \n",
       "2906323            27.6 2013-07-28  Summer  \n",
       "2906324            29.0 2013-07-29  Summer  \n",
       "2906325            28.8 2013-07-30  Summer  \n",
       "2906326            28.7 2013-07-31  Summer  \n",
       "\n",
       "[2787913 rows x 9 columns]"
      ]
     },
     "execution_count": 27,
     "metadata": {},
     "output_type": "execute_result"
    }
   ],
   "source": [
    "#Create season column based on month\n",
    "def get_season(month):\n",
    "    if month >= 1 and month <= 3:\n",
    "        return 'Winter'\n",
    "    elif month >= 4 and month <= 6:\n",
    "        return 'Spring'\n",
    "    elif month >= 7 and month <= 9:\n",
    "        return 'Summer'\n",
    "    else: \n",
    "        return 'Fall'\n",
    "\n",
    "df['Season'] = df.Month.apply(get_season)\n",
    "df"
   ]
  },
  {
   "cell_type": "code",
   "execution_count": 28,
   "id": "de2034f4",
   "metadata": {},
   "outputs": [
    {
     "data": {
      "text/plain": [
       "Summer    702687\n",
       "Fall      700463\n",
       "Spring    694051\n",
       "Winter    690712\n",
       "Name: Season, dtype: int64"
      ]
     },
     "execution_count": 28,
     "metadata": {},
     "output_type": "execute_result"
    }
   ],
   "source": [
    "df.Season.value_counts()"
   ]
  },
  {
   "cell_type": "markdown",
   "id": "3f433e2d",
   "metadata": {},
   "source": [
    "Temperatures also vary based on a city's location, and so latitude and longitude may also be useful features for EDA."
   ]
  },
  {
   "cell_type": "code",
   "execution_count": 29,
   "id": "678fac93",
   "metadata": {},
   "outputs": [],
   "source": [
    "#Create columns for latitude and longitude\n",
    "#from geopy.exc import GeocoderTimedOut\n",
    "#from geopy.geocoders import Nominatim\n",
    "\n",
    "#Referenced from: https://www.geeksforgeeks.org/how-to-find-longitude-and-latitude-for-a-list-of-regions-or-country-using-python/\n",
    "\n",
    "#Find latitude\n",
    "#def get_geocode(city): \n",
    "#    try:\n",
    "#        geolocator = Nominatim(user_agent=\"your_app_name\")         \n",
    "#        return geolocator.geocode(city)  \n",
    "#    except GeocoderTimedOut:  \n",
    "#        return get_geocode(city)"
   ]
  },
  {
   "cell_type": "code",
   "execution_count": 30,
   "id": "7d49f1fc",
   "metadata": {},
   "outputs": [],
   "source": [
    "#df.City.replace(to_replace='Montvideo', value='Montevideo', inplace=True)\n",
    "#cities = pd.DataFrame(df.City.value_counts().index.tolist())\n",
    "#cities.rename(columns={0:'City'}, inplace=True)\n",
    "#cities.City.replace(to_replace='Montvideo', value='Montevideo', inplace=True)\n",
    "#cities"
   ]
  },
  {
   "cell_type": "code",
   "execution_count": 31,
   "id": "2ecbf4e7",
   "metadata": {},
   "outputs": [],
   "source": [
    "#longitude = []\n",
    "#latitude = []\n",
    "\n",
    "#for i in (cities.City):\n",
    "      \n",
    "#    if get_geocode(i) != None:\n",
    "           \n",
    "#        loc = get_geocode(i)\n",
    "          \n",
    "        # coordinates returned from \n",
    "        # function is stored into\n",
    "        # two separate list\n",
    "#        latitude.append(loc.latitude)\n",
    "#        longitude.append(loc.longitude)\n",
    "       \n",
    "    # if coordinate for a city not\n",
    "    # found, insert \"NaN\" indicating \n",
    "    # missing value \n",
    "#    else:\n",
    "#        latitude.append(np.nan)\n",
    "#        longitude.append(np.nan)"
   ]
  },
  {
   "cell_type": "code",
   "execution_count": 32,
   "id": "d29da074",
   "metadata": {},
   "outputs": [],
   "source": [
    "#cities[\"Latitude\"] = latitude\n",
    "#cities[\"Longitude\"] = longitude\n",
    "#cities"
   ]
  },
  {
   "cell_type": "code",
   "execution_count": 33,
   "id": "4bd9a62f",
   "metadata": {},
   "outputs": [],
   "source": [
    "#df = df.merge(cities, on='City', how='left')\n",
    "#df.head()"
   ]
  },
  {
   "cell_type": "code",
   "execution_count": 34,
   "id": "3d88e173",
   "metadata": {},
   "outputs": [
    {
     "name": "stdout",
     "output_type": "stream",
     "text": [
      "Writing file.  \"../data/city_temperature_cleaned.csv\"\n"
     ]
    }
   ],
   "source": [
    "datapath = '../data'\n",
    "save_file(df, 'city_temperature_cleaned.csv', datapath)"
   ]
  },
  {
   "cell_type": "code",
   "execution_count": null,
   "id": "d0fe15b7",
   "metadata": {},
   "outputs": [],
   "source": []
  }
 ],
 "metadata": {
  "kernelspec": {
   "display_name": "Python 3",
   "language": "python",
   "name": "python3"
  },
  "language_info": {
   "codemirror_mode": {
    "name": "ipython",
    "version": 3
   },
   "file_extension": ".py",
   "mimetype": "text/x-python",
   "name": "python",
   "nbconvert_exporter": "python",
   "pygments_lexer": "ipython3",
   "version": "3.8.8"
  }
 },
 "nbformat": 4,
 "nbformat_minor": 5
}
