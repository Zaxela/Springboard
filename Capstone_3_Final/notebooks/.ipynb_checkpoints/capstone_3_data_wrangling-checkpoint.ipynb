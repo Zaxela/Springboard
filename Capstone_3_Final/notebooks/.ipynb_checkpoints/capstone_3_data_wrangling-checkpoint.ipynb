{
 "cells": [
  {
   "cell_type": "code",
   "execution_count": 1,
   "id": "c790fb8c",
   "metadata": {},
   "outputs": [],
   "source": [
    "import pandas as pd\n",
    "from library.sb_utils import save_file"
   ]
  },
  {
   "cell_type": "markdown",
   "id": "159caf01",
   "metadata": {},
   "source": [
    "This dataset is found from https://www.kaggle.com/sudalairajkumar/daily-temperature-of-major-cities. It contains the daily average temperature of various major cities around the world from 1995 to 2020.\n",
    "\n",
    "In order to perform time series analysis on this dataset, the dataset must first be cleaned."
   ]
  },
  {
   "cell_type": "code",
   "execution_count": 2,
   "id": "14038fbb",
   "metadata": {},
   "outputs": [
    {
     "name": "stderr",
     "output_type": "stream",
     "text": [
      "/Users/alex/opt/anaconda3/lib/python3.8/site-packages/IPython/core/interactiveshell.py:3165: DtypeWarning: Columns (2) have mixed types.Specify dtype option on import or set low_memory=False.\n",
      "  has_raised = await self.run_ast_nodes(code_ast.body, cell_name,\n"
     ]
    }
   ],
   "source": [
    "df = pd.read_csv('../data/city_temperature.csv')"
   ]
  },
  {
   "cell_type": "code",
   "execution_count": 3,
   "id": "2bb7f0e8",
   "metadata": {},
   "outputs": [
    {
     "name": "stdout",
     "output_type": "stream",
     "text": [
      "<class 'pandas.core.frame.DataFrame'>\n",
      "RangeIndex: 2906327 entries, 0 to 2906326\n",
      "Data columns (total 8 columns):\n",
      " #   Column          Dtype  \n",
      "---  ------          -----  \n",
      " 0   Region          object \n",
      " 1   Country         object \n",
      " 2   State           object \n",
      " 3   City            object \n",
      " 4   Month           int64  \n",
      " 5   Day             int64  \n",
      " 6   Year            int64  \n",
      " 7   AvgTemperature  float64\n",
      "dtypes: float64(1), int64(3), object(4)\n",
      "memory usage: 177.4+ MB\n"
     ]
    }
   ],
   "source": [
    "df.info()"
   ]
  },
  {
   "cell_type": "code",
   "execution_count": 4,
   "id": "bcc6a785",
   "metadata": {},
   "outputs": [
    {
     "data": {
      "text/html": [
       "<div>\n",
       "<style scoped>\n",
       "    .dataframe tbody tr th:only-of-type {\n",
       "        vertical-align: middle;\n",
       "    }\n",
       "\n",
       "    .dataframe tbody tr th {\n",
       "        vertical-align: top;\n",
       "    }\n",
       "\n",
       "    .dataframe thead th {\n",
       "        text-align: right;\n",
       "    }\n",
       "</style>\n",
       "<table border=\"1\" class=\"dataframe\">\n",
       "  <thead>\n",
       "    <tr style=\"text-align: right;\">\n",
       "      <th></th>\n",
       "      <th>Region</th>\n",
       "      <th>Country</th>\n",
       "      <th>State</th>\n",
       "      <th>City</th>\n",
       "      <th>Month</th>\n",
       "      <th>Day</th>\n",
       "      <th>Year</th>\n",
       "      <th>AvgTemperature</th>\n",
       "    </tr>\n",
       "  </thead>\n",
       "  <tbody>\n",
       "    <tr>\n",
       "      <th>0</th>\n",
       "      <td>Africa</td>\n",
       "      <td>Algeria</td>\n",
       "      <td>NaN</td>\n",
       "      <td>Algiers</td>\n",
       "      <td>1</td>\n",
       "      <td>1</td>\n",
       "      <td>1995</td>\n",
       "      <td>64.2</td>\n",
       "    </tr>\n",
       "    <tr>\n",
       "      <th>1</th>\n",
       "      <td>Africa</td>\n",
       "      <td>Algeria</td>\n",
       "      <td>NaN</td>\n",
       "      <td>Algiers</td>\n",
       "      <td>1</td>\n",
       "      <td>2</td>\n",
       "      <td>1995</td>\n",
       "      <td>49.4</td>\n",
       "    </tr>\n",
       "    <tr>\n",
       "      <th>2</th>\n",
       "      <td>Africa</td>\n",
       "      <td>Algeria</td>\n",
       "      <td>NaN</td>\n",
       "      <td>Algiers</td>\n",
       "      <td>1</td>\n",
       "      <td>3</td>\n",
       "      <td>1995</td>\n",
       "      <td>48.8</td>\n",
       "    </tr>\n",
       "    <tr>\n",
       "      <th>3</th>\n",
       "      <td>Africa</td>\n",
       "      <td>Algeria</td>\n",
       "      <td>NaN</td>\n",
       "      <td>Algiers</td>\n",
       "      <td>1</td>\n",
       "      <td>4</td>\n",
       "      <td>1995</td>\n",
       "      <td>46.4</td>\n",
       "    </tr>\n",
       "    <tr>\n",
       "      <th>4</th>\n",
       "      <td>Africa</td>\n",
       "      <td>Algeria</td>\n",
       "      <td>NaN</td>\n",
       "      <td>Algiers</td>\n",
       "      <td>1</td>\n",
       "      <td>5</td>\n",
       "      <td>1995</td>\n",
       "      <td>47.9</td>\n",
       "    </tr>\n",
       "    <tr>\n",
       "      <th>...</th>\n",
       "      <td>...</td>\n",
       "      <td>...</td>\n",
       "      <td>...</td>\n",
       "      <td>...</td>\n",
       "      <td>...</td>\n",
       "      <td>...</td>\n",
       "      <td>...</td>\n",
       "      <td>...</td>\n",
       "    </tr>\n",
       "    <tr>\n",
       "      <th>2906322</th>\n",
       "      <td>North America</td>\n",
       "      <td>US</td>\n",
       "      <td>Additional Territories</td>\n",
       "      <td>San Juan Puerto Rico</td>\n",
       "      <td>7</td>\n",
       "      <td>27</td>\n",
       "      <td>2013</td>\n",
       "      <td>82.4</td>\n",
       "    </tr>\n",
       "    <tr>\n",
       "      <th>2906323</th>\n",
       "      <td>North America</td>\n",
       "      <td>US</td>\n",
       "      <td>Additional Territories</td>\n",
       "      <td>San Juan Puerto Rico</td>\n",
       "      <td>7</td>\n",
       "      <td>28</td>\n",
       "      <td>2013</td>\n",
       "      <td>81.6</td>\n",
       "    </tr>\n",
       "    <tr>\n",
       "      <th>2906324</th>\n",
       "      <td>North America</td>\n",
       "      <td>US</td>\n",
       "      <td>Additional Territories</td>\n",
       "      <td>San Juan Puerto Rico</td>\n",
       "      <td>7</td>\n",
       "      <td>29</td>\n",
       "      <td>2013</td>\n",
       "      <td>84.2</td>\n",
       "    </tr>\n",
       "    <tr>\n",
       "      <th>2906325</th>\n",
       "      <td>North America</td>\n",
       "      <td>US</td>\n",
       "      <td>Additional Territories</td>\n",
       "      <td>San Juan Puerto Rico</td>\n",
       "      <td>7</td>\n",
       "      <td>30</td>\n",
       "      <td>2013</td>\n",
       "      <td>83.8</td>\n",
       "    </tr>\n",
       "    <tr>\n",
       "      <th>2906326</th>\n",
       "      <td>North America</td>\n",
       "      <td>US</td>\n",
       "      <td>Additional Territories</td>\n",
       "      <td>San Juan Puerto Rico</td>\n",
       "      <td>7</td>\n",
       "      <td>31</td>\n",
       "      <td>2013</td>\n",
       "      <td>83.6</td>\n",
       "    </tr>\n",
       "  </tbody>\n",
       "</table>\n",
       "<p>2906327 rows × 8 columns</p>\n",
       "</div>"
      ],
      "text/plain": [
       "                Region  Country                   State                  City  \\\n",
       "0               Africa  Algeria                     NaN               Algiers   \n",
       "1               Africa  Algeria                     NaN               Algiers   \n",
       "2               Africa  Algeria                     NaN               Algiers   \n",
       "3               Africa  Algeria                     NaN               Algiers   \n",
       "4               Africa  Algeria                     NaN               Algiers   \n",
       "...                ...      ...                     ...                   ...   \n",
       "2906322  North America       US  Additional Territories  San Juan Puerto Rico   \n",
       "2906323  North America       US  Additional Territories  San Juan Puerto Rico   \n",
       "2906324  North America       US  Additional Territories  San Juan Puerto Rico   \n",
       "2906325  North America       US  Additional Territories  San Juan Puerto Rico   \n",
       "2906326  North America       US  Additional Territories  San Juan Puerto Rico   \n",
       "\n",
       "         Month  Day  Year  AvgTemperature  \n",
       "0            1    1  1995            64.2  \n",
       "1            1    2  1995            49.4  \n",
       "2            1    3  1995            48.8  \n",
       "3            1    4  1995            46.4  \n",
       "4            1    5  1995            47.9  \n",
       "...        ...  ...   ...             ...  \n",
       "2906322      7   27  2013            82.4  \n",
       "2906323      7   28  2013            81.6  \n",
       "2906324      7   29  2013            84.2  \n",
       "2906325      7   30  2013            83.8  \n",
       "2906326      7   31  2013            83.6  \n",
       "\n",
       "[2906327 rows x 8 columns]"
      ]
     },
     "execution_count": 4,
     "metadata": {},
     "output_type": "execute_result"
    }
   ],
   "source": [
    "df"
   ]
  },
  {
   "cell_type": "markdown",
   "id": "23566ca9",
   "metadata": {},
   "source": [
    "We analyze each column to check for any null or incorrect/irregular values."
   ]
  },
  {
   "cell_type": "code",
   "execution_count": 5,
   "id": "43def2d2",
   "metadata": {},
   "outputs": [
    {
     "data": {
      "text/plain": [
       "False"
      ]
     },
     "execution_count": 5,
     "metadata": {},
     "output_type": "execute_result"
    }
   ],
   "source": [
    "#Region\n",
    "df.Region.isnull().values.any()"
   ]
  },
  {
   "cell_type": "code",
   "execution_count": 6,
   "id": "9504e8b5",
   "metadata": {},
   "outputs": [
    {
     "data": {
      "text/plain": [
       "North America                        1556681\n",
       "Europe                                381990\n",
       "Asia                                  316663\n",
       "Africa                                251118\n",
       "South/Central America & Carribean     219530\n",
       "Middle East                           124749\n",
       "Australia/South Pacific                55596\n",
       "Name: Region, dtype: int64"
      ]
     },
     "execution_count": 6,
     "metadata": {},
     "output_type": "execute_result"
    }
   ],
   "source": [
    "df.Region.value_counts()"
   ]
  },
  {
   "cell_type": "code",
   "execution_count": 7,
   "id": "ef3611e4",
   "metadata": {},
   "outputs": [
    {
     "data": {
      "text/plain": [
       "False"
      ]
     },
     "execution_count": 7,
     "metadata": {},
     "output_type": "execute_result"
    }
   ],
   "source": [
    "#Country\n",
    "df.Country.isnull().values.any()"
   ]
  },
  {
   "cell_type": "code",
   "execution_count": 8,
   "id": "ee6d3c2f",
   "metadata": {},
   "outputs": [
    {
     "data": {
      "text/plain": [
       "US                   1455337\n",
       "Canada                 74245\n",
       "Australia              46330\n",
       "China                  46329\n",
       "India                  37063\n",
       "                      ...   \n",
       "Guyana                  5065\n",
       "Israel                  4641\n",
       "Burundi                 4543\n",
       "Georgia                 4378\n",
       "Serbia-Montenegro       3427\n",
       "Name: Country, Length: 125, dtype: int64"
      ]
     },
     "execution_count": 8,
     "metadata": {},
     "output_type": "execute_result"
    }
   ],
   "source": [
    "df.Country.value_counts()"
   ]
  },
  {
   "cell_type": "code",
   "execution_count": 9,
   "id": "d1e69019",
   "metadata": {},
   "outputs": [
    {
     "data": {
      "text/plain": [
       "False"
      ]
     },
     "execution_count": 9,
     "metadata": {},
     "output_type": "execute_result"
    }
   ],
   "source": [
    "#City\n",
    "df.City.isnull().values.any()"
   ]
  },
  {
   "cell_type": "code",
   "execution_count": 10,
   "id": "438fb7ea",
   "metadata": {},
   "outputs": [
    {
     "data": {
      "text/plain": [
       "Columbus         18530\n",
       "Washington DC    18530\n",
       "Springfield      18530\n",
       "Washington       18530\n",
       "Charleston       18530\n",
       "                 ...  \n",
       "Frankfurt         4136\n",
       "Flagstaff         3574\n",
       "Pristina          3427\n",
       "Yerevan           3226\n",
       "Bonn              3133\n",
       "Name: City, Length: 321, dtype: int64"
      ]
     },
     "execution_count": 10,
     "metadata": {},
     "output_type": "execute_result"
    }
   ],
   "source": [
    "df.City.value_counts()"
   ]
  },
  {
   "cell_type": "code",
   "execution_count": 11,
   "id": "bb60d3d0",
   "metadata": {},
   "outputs": [
    {
     "data": {
      "text/plain": [
       "True"
      ]
     },
     "execution_count": 11,
     "metadata": {},
     "output_type": "execute_result"
    }
   ],
   "source": [
    "#State\n",
    "df.State.isnull().values.any()"
   ]
  },
  {
   "cell_type": "markdown",
   "id": "a37395ec",
   "metadata": {},
   "source": [
    "Since we don't need the State column for our analysis, we can drop it from our dataset."
   ]
  },
  {
   "cell_type": "code",
   "execution_count": 12,
   "id": "cb655379",
   "metadata": {},
   "outputs": [],
   "source": [
    "df = df.drop(columns=['State'])"
   ]
  },
  {
   "cell_type": "code",
   "execution_count": 13,
   "id": "6d990c4b",
   "metadata": {},
   "outputs": [
    {
     "data": {
      "text/plain": [
       "False"
      ]
     },
     "execution_count": 13,
     "metadata": {},
     "output_type": "execute_result"
    }
   ],
   "source": [
    "#Check AvgTemperature column for null or incorrect entries\n",
    "df.AvgTemperature.isnull().values.any()"
   ]
  },
  {
   "cell_type": "code",
   "execution_count": 14,
   "id": "d84517c8",
   "metadata": {},
   "outputs": [
    {
     "data": {
      "text/plain": [
       "-99.0    79672\n",
       " 80.2     7442\n",
       " 80.8     7362\n",
       " 81.1     7247\n",
       " 79.2     7241\n",
       "         ...  \n",
       "-39.3        1\n",
       "-46.9        1\n",
       "-43.4        1\n",
       "-35.4        1\n",
       "-40.0        1\n",
       "Name: AvgTemperature, Length: 1517, dtype: int64"
      ]
     },
     "execution_count": 14,
     "metadata": {},
     "output_type": "execute_result"
    }
   ],
   "source": [
    "df.AvgTemperature.value_counts()"
   ]
  },
  {
   "cell_type": "markdown",
   "id": "0f2fe293",
   "metadata": {},
   "source": [
    "-99 Degrees Fahrenheit is unrealistic, so we assume it's a placeholder for null values and remove all rows with it accordingly."
   ]
  },
  {
   "cell_type": "code",
   "execution_count": 15,
   "id": "1bdb0cb3",
   "metadata": {},
   "outputs": [
    {
     "data": {
      "text/plain": [
       " 80.2    7442\n",
       " 80.8    7362\n",
       " 81.1    7247\n",
       " 79.2    7241\n",
       " 80.5    7223\n",
       "         ... \n",
       "-39.3       1\n",
       "-46.9       1\n",
       "-43.4       1\n",
       "-35.4       1\n",
       "-33.9       1\n",
       "Name: AvgTemperature, Length: 1516, dtype: int64"
      ]
     },
     "execution_count": 15,
     "metadata": {},
     "output_type": "execute_result"
    }
   ],
   "source": [
    "#Remove rows with average temperature of -99\n",
    "df.drop(df.loc[df['AvgTemperature']==-99].index, inplace=True)\n",
    "df.AvgTemperature.value_counts()"
   ]
  },
  {
   "cell_type": "markdown",
   "id": "2d351937",
   "metadata": {},
   "source": [
    "We can convert temperature from Fahrenheit to Celsius."
   ]
  },
  {
   "cell_type": "code",
   "execution_count": 16,
   "id": "fce749c1",
   "metadata": {},
   "outputs": [
    {
     "data": {
      "text/html": [
       "<div>\n",
       "<style scoped>\n",
       "    .dataframe tbody tr th:only-of-type {\n",
       "        vertical-align: middle;\n",
       "    }\n",
       "\n",
       "    .dataframe tbody tr th {\n",
       "        vertical-align: top;\n",
       "    }\n",
       "\n",
       "    .dataframe thead th {\n",
       "        text-align: right;\n",
       "    }\n",
       "</style>\n",
       "<table border=\"1\" class=\"dataframe\">\n",
       "  <thead>\n",
       "    <tr style=\"text-align: right;\">\n",
       "      <th></th>\n",
       "      <th>Region</th>\n",
       "      <th>Country</th>\n",
       "      <th>City</th>\n",
       "      <th>Month</th>\n",
       "      <th>Day</th>\n",
       "      <th>Year</th>\n",
       "      <th>AvgTemperature</th>\n",
       "    </tr>\n",
       "  </thead>\n",
       "  <tbody>\n",
       "    <tr>\n",
       "      <th>0</th>\n",
       "      <td>Africa</td>\n",
       "      <td>Algeria</td>\n",
       "      <td>Algiers</td>\n",
       "      <td>1</td>\n",
       "      <td>1</td>\n",
       "      <td>1995</td>\n",
       "      <td>64.2</td>\n",
       "    </tr>\n",
       "    <tr>\n",
       "      <th>1</th>\n",
       "      <td>Africa</td>\n",
       "      <td>Algeria</td>\n",
       "      <td>Algiers</td>\n",
       "      <td>1</td>\n",
       "      <td>2</td>\n",
       "      <td>1995</td>\n",
       "      <td>49.4</td>\n",
       "    </tr>\n",
       "    <tr>\n",
       "      <th>2</th>\n",
       "      <td>Africa</td>\n",
       "      <td>Algeria</td>\n",
       "      <td>Algiers</td>\n",
       "      <td>1</td>\n",
       "      <td>3</td>\n",
       "      <td>1995</td>\n",
       "      <td>48.8</td>\n",
       "    </tr>\n",
       "    <tr>\n",
       "      <th>3</th>\n",
       "      <td>Africa</td>\n",
       "      <td>Algeria</td>\n",
       "      <td>Algiers</td>\n",
       "      <td>1</td>\n",
       "      <td>4</td>\n",
       "      <td>1995</td>\n",
       "      <td>46.4</td>\n",
       "    </tr>\n",
       "    <tr>\n",
       "      <th>4</th>\n",
       "      <td>Africa</td>\n",
       "      <td>Algeria</td>\n",
       "      <td>Algiers</td>\n",
       "      <td>1</td>\n",
       "      <td>5</td>\n",
       "      <td>1995</td>\n",
       "      <td>47.9</td>\n",
       "    </tr>\n",
       "  </tbody>\n",
       "</table>\n",
       "</div>"
      ],
      "text/plain": [
       "   Region  Country     City  Month  Day  Year  AvgTemperature\n",
       "0  Africa  Algeria  Algiers      1    1  1995            64.2\n",
       "1  Africa  Algeria  Algiers      1    2  1995            49.4\n",
       "2  Africa  Algeria  Algiers      1    3  1995            48.8\n",
       "3  Africa  Algeria  Algiers      1    4  1995            46.4\n",
       "4  Africa  Algeria  Algiers      1    5  1995            47.9"
      ]
     },
     "execution_count": 16,
     "metadata": {},
     "output_type": "execute_result"
    }
   ],
   "source": [
    "df.head()"
   ]
  },
  {
   "cell_type": "code",
   "execution_count": 17,
   "id": "3e525df8",
   "metadata": {},
   "outputs": [
    {
     "data": {
      "text/html": [
       "<div>\n",
       "<style scoped>\n",
       "    .dataframe tbody tr th:only-of-type {\n",
       "        vertical-align: middle;\n",
       "    }\n",
       "\n",
       "    .dataframe tbody tr th {\n",
       "        vertical-align: top;\n",
       "    }\n",
       "\n",
       "    .dataframe thead th {\n",
       "        text-align: right;\n",
       "    }\n",
       "</style>\n",
       "<table border=\"1\" class=\"dataframe\">\n",
       "  <thead>\n",
       "    <tr style=\"text-align: right;\">\n",
       "      <th></th>\n",
       "      <th>Region</th>\n",
       "      <th>Country</th>\n",
       "      <th>City</th>\n",
       "      <th>Month</th>\n",
       "      <th>Day</th>\n",
       "      <th>Year</th>\n",
       "      <th>AvgTemperature</th>\n",
       "    </tr>\n",
       "  </thead>\n",
       "  <tbody>\n",
       "    <tr>\n",
       "      <th>0</th>\n",
       "      <td>Africa</td>\n",
       "      <td>Algeria</td>\n",
       "      <td>Algiers</td>\n",
       "      <td>1</td>\n",
       "      <td>1</td>\n",
       "      <td>1995</td>\n",
       "      <td>17.9</td>\n",
       "    </tr>\n",
       "    <tr>\n",
       "      <th>1</th>\n",
       "      <td>Africa</td>\n",
       "      <td>Algeria</td>\n",
       "      <td>Algiers</td>\n",
       "      <td>1</td>\n",
       "      <td>2</td>\n",
       "      <td>1995</td>\n",
       "      <td>9.7</td>\n",
       "    </tr>\n",
       "    <tr>\n",
       "      <th>2</th>\n",
       "      <td>Africa</td>\n",
       "      <td>Algeria</td>\n",
       "      <td>Algiers</td>\n",
       "      <td>1</td>\n",
       "      <td>3</td>\n",
       "      <td>1995</td>\n",
       "      <td>9.3</td>\n",
       "    </tr>\n",
       "    <tr>\n",
       "      <th>3</th>\n",
       "      <td>Africa</td>\n",
       "      <td>Algeria</td>\n",
       "      <td>Algiers</td>\n",
       "      <td>1</td>\n",
       "      <td>4</td>\n",
       "      <td>1995</td>\n",
       "      <td>8.0</td>\n",
       "    </tr>\n",
       "    <tr>\n",
       "      <th>4</th>\n",
       "      <td>Africa</td>\n",
       "      <td>Algeria</td>\n",
       "      <td>Algiers</td>\n",
       "      <td>1</td>\n",
       "      <td>5</td>\n",
       "      <td>1995</td>\n",
       "      <td>8.8</td>\n",
       "    </tr>\n",
       "  </tbody>\n",
       "</table>\n",
       "</div>"
      ],
      "text/plain": [
       "   Region  Country     City  Month  Day  Year  AvgTemperature\n",
       "0  Africa  Algeria  Algiers      1    1  1995            17.9\n",
       "1  Africa  Algeria  Algiers      1    2  1995             9.7\n",
       "2  Africa  Algeria  Algiers      1    3  1995             9.3\n",
       "3  Africa  Algeria  Algiers      1    4  1995             8.0\n",
       "4  Africa  Algeria  Algiers      1    5  1995             8.8"
      ]
     },
     "execution_count": 17,
     "metadata": {},
     "output_type": "execute_result"
    }
   ],
   "source": [
    "df.AvgTemperature = round((df.AvgTemperature - 32)*5/9, 1)\n",
    "df.head()"
   ]
  },
  {
   "cell_type": "code",
   "execution_count": null,
   "id": "7b8c00b6",
   "metadata": {},
   "outputs": [],
   "source": []
  }
 ],
 "metadata": {
  "kernelspec": {
   "display_name": "Python 3",
   "language": "python",
   "name": "python3"
  },
  "language_info": {
   "codemirror_mode": {
    "name": "ipython",
    "version": 3
   },
   "file_extension": ".py",
   "mimetype": "text/x-python",
   "name": "python",
   "nbconvert_exporter": "python",
   "pygments_lexer": "ipython3",
   "version": "3.8.8"
  }
 },
 "nbformat": 4,
 "nbformat_minor": 5
}
